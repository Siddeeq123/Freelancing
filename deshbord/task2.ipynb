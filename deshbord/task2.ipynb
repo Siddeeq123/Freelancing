{
  "cells": [
    {
      "cell_type": "code",
      "execution_count": null,
      "id": "fdc9dea9-977d-47ec-a607-c4302a010733",
      "metadata": {
        "id": "fdc9dea9-977d-47ec-a607-c4302a010733"
      },
      "outputs": [],
      "source": [
        "import pandas as pd # pandas for data manipulation\n",
        "import numpy as np # numpy for numerical calculation\n",
        "import panel as pn # panel  library  is used  for making   dashboard\n",
        "pn.extension('tabulator') \n",
        "import hvplot.pandas # hvplot for pandas"
      ]
    },
    {
      "cell_type": "code",
      "execution_count": null,
      "id": "97cbf1e9-b3cb-4dbf-a5c4-77d98d13a987",
      "metadata": {
        "id": "97cbf1e9-b3cb-4dbf-a5c4-77d98d13a987"
      },
      "outputs": [],
      "source": [
        "df = pd.read_csv(\"/content/GCB2022v27_percapita_flat.csv\")  # read_csv funtion is used for loading data\n",
        "df"
      ]
    },
    {
      "cell_type": "code",
      "execution_count": null,
      "id": "UPSilPk802gm",
      "metadata": {
        "id": "UPSilPk802gm"
      },
      "outputs": [],
      "source": [
        "df.isnull().sum() #  checking null value"
      ]
    },
    {
      "cell_type": "code",
      "execution_count": null,
      "id": "yPlbqj-s02Mk",
      "metadata": {
        "id": "yPlbqj-s02Mk"
      },
      "outputs": [],
      "source": [
        "df.dropna(inplace=True)# dropna function is used for drop  null values"
      ]
    },
    {
      "cell_type": "code",
      "execution_count": null,
      "id": "Hi0vC8dV1x2m",
      "metadata": {
        "id": "Hi0vC8dV1x2m"
      },
      "outputs": [],
      "source": [
        "df.columns # checking all columns present in our data set"
      ]
    },
    {
      "cell_type": "code",
      "execution_count": null,
      "id": "tFug__tNLsR2",
      "metadata": {
        "id": "tFug__tNLsR2"
      },
      "outputs": [],
      "source": [
        "df.corr() # corr is used for checking corelation"
      ]
    },
    {
      "cell_type": "code",
      "execution_count": null,
      "id": "NmBZfVSrLwsx",
      "metadata": {
        "id": "NmBZfVSrLwsx"
      },
      "outputs": [],
      "source": [
        "df.isnull().sum()"
      ]
    },
    {
      "cell_type": "code",
      "execution_count": null,
      "id": "xs3lKWLfO5k2",
      "metadata": {
        "id": "xs3lKWLfO5k2"
      },
      "outputs": [],
      "source": []
    },
    {
      "cell_type": "code",
      "execution_count": null,
      "id": "v-38_2PZNgyg",
      "metadata": {
        "id": "v-38_2PZNgyg"
      },
      "outputs": [],
      "source": []
    },
    {
      "cell_type": "code",
      "execution_count": null,
      "id": "goLHlUcONvn9",
      "metadata": {
        "id": "goLHlUcONvn9"
      },
      "outputs": [],
      "source": []
    },
    {
      "cell_type": "code",
      "execution_count": null,
      "id": "kaLq_ChTMUHw",
      "metadata": {
        "id": "kaLq_ChTMUHw"
      },
      "outputs": [],
      "source": [
        "df['Country'].unique() #unique function is used for finding unique values"
      ]
    },
    {
      "cell_type": "code",
      "execution_count": null,
      "id": "VTZVFYKWPt0l",
      "metadata": {
        "id": "VTZVFYKWPt0l"
      },
      "outputs": [],
      "source": [
        "df[df['Country']=='Netherlands'] # only those value print which is erqual to Netherlands "
      ]
    },
    {
      "cell_type": "code",
      "execution_count": null,
      "id": "vx3OK22AQCJT",
      "metadata": {
        "id": "vx3OK22AQCJT"
      },
      "outputs": [],
      "source": [
        "df[df['Country']=='USA']"
      ]
    },
    {
      "cell_type": "code",
      "execution_count": null,
      "id": "oiP_9voUXK_W",
      "metadata": {
        "id": "oiP_9voUXK_W"
      },
      "outputs": [],
      "source": [
        "idf = df.interactive() # initates  the slider"
      ]
    },
    {
      "cell_type": "code",
      "execution_count": null,
      "id": "UFdXs6HySpW0",
      "metadata": {
        "id": "UFdXs6HySpW0"
      },
      "outputs": [],
      "source": [
        "df['Year'].unique().min() # find the min year "
      ]
    },
    {
      "cell_type": "code",
      "execution_count": null,
      "id": "2jQFKZaAdafK",
      "metadata": {
        "id": "2jQFKZaAdafK"
      },
      "outputs": [],
      "source": [
        "df['Year'].unique().max() # find the max year  which is present "
      ]
    },
    {
      "cell_type": "code",
      "execution_count": null,
      "id": "r55lYd4eRMrh",
      "metadata": {
        "id": "r55lYd4eRMrh"
      },
      "outputs": [],
      "source": [
        "slider_year = pn.widgets.IntSlider(name='Year slider', start=1994, end=2021, step=2, value=1950) # making slider usinf Intslider function which is present  in panel libery \n",
        "slider_year"
      ]
    },
    {
      "cell_type": "markdown",
      "id": "Om5UYBL-7g_T",
      "metadata": {
        "id": "Om5UYBL-7g_T"
      },
      "source": []
    },
    {
      "cell_type": "code",
      "execution_count": null,
      "id": "5131fd1d-f9a9-48b2-9168-769435d830fc",
      "metadata": {
        "id": "5131fd1d-f9a9-48b2-9168-769435d830fc"
      },
      "outputs": [],
      "source": [
        "#  making Radio button\n",
        "radio_button = pn.widgets.RadioButtonGroup(\n",
        "    name='Radio Button Group', options=['Oil', 'Gas', ], button_type='success'\n",
        "    )\n",
        "\n",
        "\n",
        "radio_button"
      ]
    },
    {
      "cell_type": "code",
      "execution_count": null,
      "id": "ep4e6D-fjF1_",
      "metadata": {
        "id": "ep4e6D-fjF1_"
      },
      "outputs": [],
      "source": [
        "continents = ['USA', 'Netherlands','Austria','Turkey','Italy']"
      ]
    },
    {
      "cell_type": "code",
      "execution_count": null,
      "id": "4c357628-af69-4ec4-9e2d-91bcdd21c3c9",
      "metadata": {
        "id": "4c357628-af69-4ec4-9e2d-91bcdd21c3c9"
      },
      "outputs": [],
      "source": [
        "co2_pipeline = (\n",
        "    idf[\n",
        "        (idf.Year <= slider_year) &(idf.Country.isin(continents)) # creating pipline \n",
        "    ].groupby(['Country', 'Year'])[radio_button].mean().to_frame().reset_index().sort_values(by='Year') .reset_index(drop=True)\n",
        ")"
      ]
    },
    {
      "cell_type": "code",
      "execution_count": null,
      "id": "ad349aaf-1612-4a0d-9303-3a379cf83fad",
      "metadata": {
        "collapsed": true,
        "id": "ad349aaf-1612-4a0d-9303-3a379cf83fad",
        "jupyter": {
          "outputs_hidden": true
        },
        "tags": []
      },
      "outputs": [],
      "source": [
        "co2_pipeline"
      ]
    },
    {
      "cell_type": "code",
      "execution_count": null,
      "id": "96b7ed90-92db-41b2-a2ab-ea80aa34d2db",
      "metadata": {
        "id": "96b7ed90-92db-41b2-a2ab-ea80aa34d2db",
        "tags": []
      },
      "outputs": [],
      "source": [
        "co2_plot = co2_pipeline.hvplot(x = 'Year', by='Country', y=radio_button,line_width=2, title=\"CO2 emission  Year vs Country\")\n",
        "co2_plot"
      ]
    },
    {
      "cell_type": "markdown",
      "id": "b2e3cb1b-093c-47ae-b6df-60a0487d0023",
      "metadata": {
        "id": "b2e3cb1b-093c-47ae-b6df-60a0487d0023"
      },
      "source": [
        "##  Making table  "
      ]
    },
    {
      "cell_type": "code",
      "execution_count": null,
      "id": "f9496235-820f-49c8-a375-fbef06be6c1e",
      "metadata": {
        "id": "f9496235-820f-49c8-a375-fbef06be6c1e",
        "tags": []
      },
      "outputs": [],
      "source": [
        "table = co2_pipeline.pipe(pn.widgets.Tabulator, pagination='remote', page_size = 10, sizing_mode='stretch_width')  # making table and connect to slide bar and radio button  \n",
        "table"
      ]
    },
    {
      "cell_type": "markdown",
      "id": "e3483f4a-15d2-4361-9f42-0f0dcf0ac399",
      "metadata": {
        "id": "e3483f4a-15d2-4361-9f42-0f0dcf0ac399"
      },
      "source": [
        "##  Making  scatterplot"
      ]
    },
    {
      "cell_type": "code",
      "execution_count": null,
      "id": "8cd37bd6-28e0-4805-843a-397873fa2f59",
      "metadata": {
        "id": "8cd37bd6-28e0-4805-843a-397873fa2f59"
      },
      "outputs": [],
      "source": [
        "scatterplot_pipeline = (\n",
        "    idf[\n",
        "        (idf.Year == slider_year) &\n",
        "        (~ (idf.Country.isin(continents)))\n",
        "    ]\n",
        "    .groupby(['Country', 'Year', 'Oil'])['Gas'].mean()\n",
        "    .to_frame()\n",
        "    .reset_index()\n",
        "    .sort_values(by='Year')  \n",
        "    .reset_index(drop=True)\n",
        ")"
      ]
    },
    {
      "cell_type": "code",
      "execution_count": null,
      "id": "6b00d3dd-3df7-497c-aba8-27ba742223bc",
      "metadata": {
        "collapsed": true,
        "id": "6b00d3dd-3df7-497c-aba8-27ba742223bc",
        "jupyter": {
          "outputs_hidden": true
        },
        "tags": []
      },
      "outputs": [],
      "source": [
        "scatterplot_pipeline"
      ]
    },
    {
      "cell_type": "code",
      "execution_count": null,
      "id": "da1d4289-2f65-4a94-88fc-841bf3e40068",
      "metadata": {
        "id": "da1d4289-2f65-4a94-88fc-841bf3e40068"
      },
      "outputs": [],
      "source": [
        "scatterplot =scatterplot_pipeline.hvplot(x='Oil', \n",
        "                                                                y='Gas', \n",
        "                                                                by='Country', \n",
        "                                                                size=80, kind=\"scatter\", \n",
        "                                                                alpha=0.7,\n",
        "                                                                legend=False, \n",
        "                                                                height=500, \n",
        "                                                                width=500)\n",
        "scatterplot"
      ]
    },
    {
      "cell_type": "code",
      "execution_count": null,
      "id": "5bf7f84e-44b1-4e4b-9486-7cfd10fa0d03",
      "metadata": {
        "id": "5bf7f84e-44b1-4e4b-9486-7cfd10fa0d03"
      },
      "outputs": [],
      "source": [
        "second_radio_button = pn.widgets.RadioButtonGroup( # making radiobutton \n",
        "    name='Y axis', \n",
        "    options=['Gas', 'Oil', 'Coal'], \n",
        "    button_type='success'\n",
        ")\n",
        "\n",
        "continents = ['USA', 'Netherlands','Austria','Turkey','Italy']\n",
        "\n",
        "co2_source_bar_pipeline = ( # making pipline \n",
        "    idf[\n",
        "        (idf.Year == slider_year) &\n",
        "        (idf.Country.isin(continents))\n",
        "    ]\n",
        "    .groupby(['Year', 'Country'])[second_radio_button].sum()\n",
        "    .to_frame()\n",
        "    .reset_index()\n",
        "    .sort_values(by='Year')  \n",
        "    .reset_index(drop=True)\n",
        ")"
      ]
    },
    {
      "cell_type": "code",
      "execution_count": null,
      "id": "2c80f1dd-a24d-4342-916c-be7720ee0988",
      "metadata": {
        "id": "2c80f1dd-a24d-4342-916c-be7720ee0988"
      },
      "outputs": [],
      "source": [
        "bar_plot = co2_source_bar_pipeline.hvplot(kind='bar', \n",
        "                                                     x='Country', # making bar chart \n",
        "                                                     y=second_radio_button, \n",
        "                                                     title='CO2 source by continent')\n",
        "bar_plot"
      ]
    },
    {
      "cell_type": "code",
      "execution_count": null,
      "id": "ncNn_LqYsiLq",
      "metadata": {
        "id": "ncNn_LqYsiLq"
      },
      "outputs": [],
      "source": [
        "hist_plot = co2_source_bar_pipeline.hvplot(kind='hist',  # making histogram \n",
        "                                                     x='Country', \n",
        "                                                     y=second_radio_button, \n",
        "                                                     title='CO2 source by continent')\n",
        "hist_plot"
      ]
    },
    {
      "cell_type": "code",
      "execution_count": null,
      "id": "_SGhXEG8tKfW",
      "metadata": {
        "id": "_SGhXEG8tKfW"
      },
      "outputs": [],
      "source": [
        "box_plot = co2_source_bar_pipeline.hvplot(kind='box',  # Making Boxplot \n",
        "                                                     x='Country', \n",
        "                                                     y=second_radio_button, \n",
        "                                                     title='CO2 source by continent')\n",
        "box_plot"
      ]
    },
    {
      "cell_type": "markdown",
      "id": "ef1d523e-0409-4024-9783-2b654b8f9d53",
      "metadata": {
        "id": "ef1d523e-0409-4024-9783-2b654b8f9d53"
      },
      "source": [
        "## Creating Dashboard"
      ]
    },
    {
      "cell_type": "code",
      "execution_count": null,
      "id": "1c2e45bf-37c7-48e0-a2d3-a36da8843362",
      "metadata": {
        "id": "1c2e45bf-37c7-48e0-a2d3-a36da8843362"
      },
      "outputs": [],
      "source": [
        "#Layout using Template\n",
        "template = pn.template.FastListTemplate(\n",
        "    title='World CO2 emission dashboard', \n",
        "    sidebar=[pn.pane.Markdown(\"# CO2 Emissions and Climate Change\"), \n",
        "             pn.pane.Markdown(\"#### Carbon dioxide (CO2) emissions are a major contributor to climate change. Climate change refers to long-term changes in the Earth's climate, including global warming, changes in precipitation patterns, sea level rise, and more frequent and intense extreme weather events such as heat waves, floods, and droughts.\"), \n",
        "            pn.pane.Markdown(\"#### CO2 emissions are mainly caused by the burning of fossil fuels such as coal, oil, and natural gas, which release carbon dioxide into the atmosphere. This increase in atmospheric CO2 levels leads to a greenhouse effect, where heat is trapped in the Earth's atmosphere, causing the Earth's temperature to rise.\"), \n",
        "            pn.pane.Markdown(\"#### Climate change has far-reaching impacts on the natural environment, as well as on human societies and economies. It can affect agriculture, water resources, human health, and biodiversity. In addition, climate change can exacerbate poverty, inequality, and social instability, particularly in vulnerable communities and developing countries.\"), \n",
        "            pn.pane.Markdown(\"#### To mitigate the impacts of climate change, efforts are being made to reduce CO2 emissions and transition to cleaner energy sources such as renewable energy. This includes policies and regulations to limit emissions, investment in low-carbon technologies, and behavior changes at the individual level.\"), \n",
        "            pn.pane.Markdown(\"#### Overall, reducing CO2 emissions is essential to mitigating the impacts of climate change and ensuring a sustainable future for the planet and its inhabitants.\"), \n",
        "\n",
        "             pn.pane.Markdown(\"## Settings\"),\n",
        "             pn.pane.Markdown(\"## about\"),\n",
        "\n",
        "             slider_year],\n",
        "    main=[pn.Row(pn.Column(radio_button, \n",
        "                           co2_plot.panel(width=700), margin=(0,25)), \n",
        "                 table.panel(width=500)), \n",
        "          pn.Row(pn.Column(scatterplot.panel(width=600), margin=(0,25)),\n",
        "                  pn.pane.Markdown(\"### scatter plots to visually examine the relationship between two variables, identify patterns and trends\"),\n",
        "                  \n",
        "                 pn.Column(second_radio_button, bar_plot.panel(width=600)),\n",
        "                  pn.pane.Markdown(\"## We use bar plots to compare and display the frequency, count, or percentage of categorical data in different categories, making it easy to identify differences and similarities between groups or variables.\"),),\n",
        "          pn.Row(pn.Column(second_radio_button, hist_plot.panel(width=600)),\n",
        "           pn.pane.Markdown(\"## A histogram is a graphical representation of the distribution of a continuous variable, showing the frequency or count of data points falling within each interval, and providing insight into the shape, center, and spread of a datase\"),\n",
        "                 pn.Column(second_radio_button, box_plot.panel(width=600)),\n",
        "                  pn.pane.Markdown(\"## A box plot is a graphical representation of the distribution of a dataset, showing the median, quartiles, range, and outliers, making it easy to summarize and compare different datasets.\"),)],\n",
        "     accent_base_color=\"#00FFFF\",\n",
        "    header_background=\"#800080\",\n",
        ")\n",
        "# template.show()\n",
        "template.servable();"
      ]
    },
    {
      "cell_type": "code",
      "execution_count": null,
      "id": "438f8daa-0017-4cb2-a8cb-c86784a6ab52",
      "metadata": {
        "id": "438f8daa-0017-4cb2-a8cb-c86784a6ab52"
      },
      "outputs": [],
      "source": [
        "template.show()"
      ]
    },
    {
      "cell_type": "code",
      "execution_count": null,
      "id": "zjotE-QTBFu8",
      "metadata": {
        "id": "zjotE-QTBFu8"
      },
      "outputs": [],
      "source": []
    }
  ],
  "metadata": {
    "colab": {
      "private_outputs": true,
      "provenance": []
    },
    "gpuClass": "standard",
    "kernelspec": {
      "display_name": "Python 3 (ipykernel)",
      "language": "python",
      "name": "python3"
    },
    "language_info": {
      "codemirror_mode": {
        "name": "ipython",
        "version": 3
      },
      "file_extension": ".py",
      "mimetype": "text/x-python",
      "name": "python",
      "nbconvert_exporter": "python",
      "pygments_lexer": "ipython3",
      "version": "3.10.10"
    }
  },
  "nbformat": 4,
  "nbformat_minor": 5
}
