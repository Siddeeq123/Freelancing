{
 "cells": [
  {
   "cell_type": "code",
   "execution_count": 6,
   "metadata": {},
   "outputs": [],
   "source": [
    "# Do not remove anything from this cell!\n",
    "\n",
    "import csv\n",
    "\n",
    "import numpy as np\n",
    "import pandas as pd\n",
    "\n",
    "from os import listdir\n",
    "from os.path import isfile, join\n",
    "\n",
    "from sklearn import preprocessing\n",
    "from sklearn.feature_extraction.text import CountVectorizer\n",
    "from sklearn.model_selection import train_test_split\n",
    "from sklearn.naive_bayes import MultinomialNB # Import the MultinomialNB Naive Bayes model - You will use this model only for coursework 2.\n",
    "from sklearn.metrics import accuracy_score"
   ]
  },
  {
   "cell_type": "code",
   "execution_count": 15,
   "metadata": {},
   "outputs": [
    {
     "name": "stdout",
     "output_type": "stream",
     "text": [
      "1 1\n",
      "NaiveBayesClassifier 1\n",
      "test 1\n",
      "train 1\n",
      "Untitled 1\n",
      "Untitled1 1\n"
     ]
    }
   ],
   "source": [
    "def get_documents_count_per_label():\n",
    "    '''\n",
    "    This method counts the number of reviews per class label in the train folder \n",
    "    and print the following (label, number of documents) key-value pairs.\n",
    "    You may create other helper functions and call them within this function.\n",
    "    03055066506 irsad \n",
    "    '''\n",
    "\n",
    "    # Get the file names for all the reviews in the train folder\n",
    "    file_names = [f for f in listdir(\"C://Users//FUJUTSU//Desktop//imdb_movie_reviews//imdb_movie_reviews\") if isfile(join(\"C://Users//FUJUTSU//Desktop//imdb_movie_reviews//imdb_movie_reviews\", f))]\n",
    "    \n",
    "    # Create an empty dictionary to store the label counts\n",
    "    label_counts = {}\n",
    "    \n",
    "    # Loop through each file name\n",
    "    for file_name in file_names:\n",
    "        # Get the label from the file name\n",
    "        label = file_name.split('.')[0]\n",
    "        \n",
    "        # If the label is not already in the label counts dictionary, add it with a count of 1\n",
    "        if label not in label_counts:\n",
    "            label_counts[label] = 1\n",
    "        # If the label is already in the label counts dictionary, increment its count by 1\n",
    "        else:\n",
    "            label_counts[label] += 1\n",
    "            \n",
    "    # Print out the label counts\n",
    "    for label, count in label_counts.items():\n",
    "        print(label, count)\n",
    "# Do not remove this line\n",
    "get_documents_count_per_label()"
   ]
  },
  {
   "cell_type": "code",
   "execution_count": 16,
   "metadata": {},
   "outputs": [
    {
     "ename": "FileNotFoundError",
     "evalue": "[WinError 3] The system cannot find the path specified: 'C://Users//FUJUTSU//Desktop//imdb_movie_reviews//imdb_movie_reviews\\\\neg'",
     "output_type": "error",
     "traceback": [
      "\u001b[1;31m---------------------------------------------------------------------------\u001b[0m",
      "\u001b[1;31mFileNotFoundError\u001b[0m                         Traceback (most recent call last)",
      "\u001b[1;32m<ipython-input-16-eb8718203ed0>\u001b[0m in \u001b[0;36m<module>\u001b[1;34m\u001b[0m\n\u001b[0;32m     20\u001b[0m         \u001b[0mprint\u001b[0m\u001b[1;33m(\u001b[0m\u001b[0mlabel\u001b[0m\u001b[1;33m,\u001b[0m \u001b[0mcount\u001b[0m\u001b[1;33m)\u001b[0m\u001b[1;33m\u001b[0m\u001b[1;33m\u001b[0m\u001b[0m\n\u001b[0;32m     21\u001b[0m \u001b[1;33m\u001b[0m\u001b[0m\n\u001b[1;32m---> 22\u001b[1;33m \u001b[0mget_words_count_per_label\u001b[0m\u001b[1;33m(\u001b[0m\u001b[1;33m)\u001b[0m \u001b[1;31m# Do not remove this line\u001b[0m\u001b[1;33m\u001b[0m\u001b[1;33m\u001b[0m\u001b[0m\n\u001b[0m",
      "\u001b[1;32m<ipython-input-16-eb8718203ed0>\u001b[0m in \u001b[0;36mget_words_count_per_label\u001b[1;34m()\u001b[0m\n\u001b[0;32m      9\u001b[0m     \u001b[0mwords_count\u001b[0m \u001b[1;33m=\u001b[0m \u001b[1;33m{\u001b[0m\u001b[1;33m}\u001b[0m\u001b[1;33m\u001b[0m\u001b[1;33m\u001b[0m\u001b[0m\n\u001b[0;32m     10\u001b[0m     \u001b[1;32mfor\u001b[0m \u001b[0mlabel\u001b[0m \u001b[1;32min\u001b[0m \u001b[0mlabels\u001b[0m\u001b[1;33m:\u001b[0m\u001b[1;33m\u001b[0m\u001b[1;33m\u001b[0m\u001b[0m\n\u001b[1;32m---> 11\u001b[1;33m         \u001b[0mfiles\u001b[0m \u001b[1;33m=\u001b[0m \u001b[1;33m[\u001b[0m\u001b[0mf\u001b[0m \u001b[1;32mfor\u001b[0m \u001b[0mf\u001b[0m \u001b[1;32min\u001b[0m \u001b[0mlistdir\u001b[0m\u001b[1;33m(\u001b[0m\u001b[0mjoin\u001b[0m\u001b[1;33m(\u001b[0m\u001b[0mtrain_folder\u001b[0m\u001b[1;33m,\u001b[0m \u001b[0mlabel\u001b[0m\u001b[1;33m)\u001b[0m\u001b[1;33m)\u001b[0m \u001b[1;32mif\u001b[0m \u001b[0misfile\u001b[0m\u001b[1;33m(\u001b[0m\u001b[0mjoin\u001b[0m\u001b[1;33m(\u001b[0m\u001b[0mtrain_folder\u001b[0m\u001b[1;33m,\u001b[0m \u001b[0mlabel\u001b[0m\u001b[1;33m,\u001b[0m \u001b[0mf\u001b[0m\u001b[1;33m)\u001b[0m\u001b[1;33m)\u001b[0m\u001b[1;33m]\u001b[0m\u001b[1;33m\u001b[0m\u001b[1;33m\u001b[0m\u001b[0m\n\u001b[0m\u001b[0;32m     12\u001b[0m         \u001b[0mlabel_words_count\u001b[0m \u001b[1;33m=\u001b[0m \u001b[0mset\u001b[0m\u001b[1;33m(\u001b[0m\u001b[1;33m)\u001b[0m\u001b[1;33m\u001b[0m\u001b[1;33m\u001b[0m\u001b[0m\n\u001b[0;32m     13\u001b[0m         \u001b[1;32mfor\u001b[0m \u001b[0mfile\u001b[0m \u001b[1;32min\u001b[0m \u001b[0mfiles\u001b[0m\u001b[1;33m:\u001b[0m\u001b[1;33m\u001b[0m\u001b[1;33m\u001b[0m\u001b[0m\n",
      "\u001b[1;31mFileNotFoundError\u001b[0m: [WinError 3] The system cannot find the path specified: 'C://Users//FUJUTSU//Desktop//imdb_movie_reviews//imdb_movie_reviews\\\\neg'"
     ]
    }
   ],
   "source": [
    "def get_words_count_per_label():\n",
    "    '''\n",
    "    This method counts the number of distinct words per label in the train folder \n",
    "    and prints the following (label, number of words) key-value pair.\n",
    "    You may create other helper functions and call them within this function.\n",
    "    '''\n",
    "    train_folder = 'C://Users//FUJUTSU//Desktop//imdb_movie_reviews//imdb_movie_reviews'\n",
    "    labels = ['neg', 'pos']\n",
    "    words_count = {}\n",
    "    for label in labels:\n",
    "        files = [f for f in listdir(join(train_folder, label)) if isfile(join(train_folder, label, f))]\n",
    "        label_words_count = set()\n",
    "        for file in files:\n",
    "            with open(join(train_folder, label, file), 'r', encoding='utf-8') as f:\n",
    "                text = f.read().lower()\n",
    "                words = text.split()\n",
    "                label_words_count.update(set(words))\n",
    "        words_count[label] = len(label_words_count)\n",
    "    for label, count in words_count.items():\n",
    "        print(label, count)\n",
    "\n",
    "get_words_count_per_label() # Do not remove this line\n"
   ]
  },
  {
   "cell_type": "code",
   "execution_count": null,
   "metadata": {},
   "outputs": [],
   "source": [
    "def train():\n",
    "    '''\n",
    "    This method trains your classifier using the given reviews in the train folder. \n",
    "    You must use the Multinomial Naive Bayes model that was created in the first cell.\n",
    "    You may create other helper functions and call them within this function.\n",
    "    '''\n",
    "\n",
    "    # Load the training data\n",
    "    train_data, train_labels = load_data(TRAIN_DIR)\n",
    "    \n",
    "    # Create a count vectorizer object to count the frequency of words in the training data\n",
    "    count_vect = CountVectorizer()\n",
    "    X_train_counts = count_vect.fit_transform(train_data)\n",
    "\n",
    "    # Transform the count matrix into a tf-idf representation\n",
    "    tfidf_transformer = TfidfTransformer()\n",
    "    X_train_tfidf = tfidf_transformer.fit_transform(X_train_counts)\n",
    "\n",
    "    # Train the Multinomial Naive Bayes model\n",
    "    clf = MultinomialNB().fit(X_train_tfidf, train_labels)\n",
    "\n",
    "    return clf, count_vect, tfidf_transformer\n"
   ]
  },
  {
   "cell_type": "code",
   "execution_count": null,
   "metadata": {},
   "outputs": [],
   "source": [
    "# TODO: Complete the implementation logic\n",
    "def classify():\n",
    "    '''\n",
    "    This method outputs/print the classification result (in accuracy) given all the movie reviews in test.csv.\n",
    "    You may create other helper functions and call them within this function.\n",
    "    '''\n",
    "\n",
    "\n",
    "    \n",
    "classify() # Do not remove this line"
   ]
  }
 ],
 "metadata": {
  "kernelspec": {
   "display_name": "Python 3",
   "language": "python",
   "name": "python3"
  },
  "language_info": {
   "codemirror_mode": {
    "name": "ipython",
    "version": 3
   },
   "file_extension": ".py",
   "mimetype": "text/x-python",
   "name": "python",
   "nbconvert_exporter": "python",
   "pygments_lexer": "ipython3",
   "version": "3.8.5"
  }
 },
 "nbformat": 4,
 "nbformat_minor": 5
}
