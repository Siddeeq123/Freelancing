{
 "cells": [
  {
   "cell_type": "code",
   "execution_count": 43,
   "metadata": {},
   "outputs": [],
   "source": [
    "# Do not remove anything from this cell!\n",
    "\n",
    "import csv\n",
    "\n",
    "import numpy as np\n",
    "import pandas as pd\n",
    "\n",
    "from os import listdir\n",
    "from os.path import isfile, join\n",
    "\n",
    "from sklearn import preprocessing\n",
    "from sklearn.feature_extraction.text import CountVectorizer\n",
    "from sklearn.model_selection import train_test_split\n",
    "from sklearn.naive_bayes import MultinomialNB # Import the MultinomialNB Naive Bayes model - You will use this model only for coursework 2.\n",
    "from sklearn.metrics import accuracy_score"
   ]
  },
  {
   "cell_type": "code",
   "execution_count": null,
   "metadata": {},
   "outputs": [],
   "source": [
    "def get_documents_count_per_label():\n",
    "    '''\n",
    "    This method counts the number of reviews per class label in the train folder \n",
    "    and print the following (label, number of documents) key-value pairs.\n",
    "    You may create other helper functions and call them within this function.\n",
    "    '''\n",
    "\n",
    "    # Get the file names for all the reviews in the train folder\n",
    "    file_names = [f for f in listdir('train') if isfile(join('train', f))]\n",
    "    \n",
    "    # Create an empty dictionary to store the label counts\n",
    "    label_counts = {}\n",
    "    \n",
    "    # Loop through each file name\n",
    "    for file_name in file_names:\n",
    "        # Get the label from the file name\n",
    "        label = file_name.split('.')[0]\n",
    "        \n",
    "        # If the label is not already in the label counts dictionary, add it with a count of 1\n",
    "        if label not in label_counts:\n",
    "            label_counts[label] = 1\n",
    "        # If the label is already in the label counts dictionary, increment its count by 1\n",
    "        else:\n",
    "            label_counts[label] += 1\n",
    "            \n",
    "    # Print out the label counts\n",
    "    for label, count in label_counts.items():\n",
    "        print(label, count)\n",
    "# Do not remove this line"
   ]
  },
  {
   "cell_type": "code",
   "execution_count": null,
   "metadata": {},
   "outputs": [],
   "source": [
    "def get_words_count_per_label():\n",
    "    '''\n",
    "    This method counts the number of distinct words per label in the train folder \n",
    "    and prints the following (label, number of words) key-value pair.\n",
    "    You may create other helper functions and call them within this function.\n",
    "    '''\n",
    "    train_folder = 'train'\n",
    "    labels = ['neg', 'pos']\n",
    "    words_count = {}\n",
    "    for label in labels:\n",
    "        files = [f for f in listdir(join(train_folder, label)) if isfile(join(train_folder, label, f))]\n",
    "        label_words_count = set()\n",
    "        for file in files:\n",
    "            with open(join(train_folder, label, file), 'r', encoding='utf-8') as f:\n",
    "                text = f.read().lower()\n",
    "                words = text.split()\n",
    "                label_words_count.update(set(words))\n",
    "        words_count[label] = len(label_words_count)\n",
    "    for label, count in words_count.items():\n",
    "        print(label, count)\n",
    "\n",
    "get_words_count_per_label() # Do not remove this line\n"
   ]
  },
  {
   "cell_type": "code",
   "execution_count": null,
   "metadata": {},
   "outputs": [],
   "source": [
    "def train():\n",
    "    '''\n",
    "    This method trains your classifier using the given reviews in the train folder. \n",
    "    You must use the Multinomial Naive Bayes model that was created in the first cell.\n",
    "    You may create other helper functions and call them within this function.\n",
    "    '''\n",
    "\n",
    "    # Load the training data\n",
    "    train_data, train_labels = load_data(TRAIN_DIR)\n",
    "    \n",
    "    # Create a count vectorizer object to count the frequency of words in the training data\n",
    "    count_vect = CountVectorizer()\n",
    "    X_train_counts = count_vect.fit_transform(train_data)\n",
    "\n",
    "    # Transform the count matrix into a tf-idf representation\n",
    "    tfidf_transformer = TfidfTransformer()\n",
    "    X_train_tfidf = tfidf_transformer.fit_transform(X_train_counts)\n",
    "\n",
    "    # Train the Multinomial Naive Bayes model\n",
    "    clf = MultinomialNB().fit(X_train_tfidf, train_labels)\n",
    "\n",
    "    return clf, count_vect, tfidf_transformer\n"
   ]
  },
  {
   "cell_type": "code",
   "execution_count": null,
   "metadata": {},
   "outputs": [],
   "source": [
    "# TODO: Complete the implementation logic\n",
    "def classify():\n",
    "    '''\n",
    "    This method outputs/print the classification result (in accuracy) given all the movie reviews in test.csv.\n",
    "    You may create other helper functions and call them within this function.\n",
    "    '''\n",
    "\n",
    "\n",
    "    \n",
    "classify() # Do not remove this line"
   ]
  }
 ],
 "metadata": {
  "kernelspec": {
   "display_name": "Python 3",
   "language": "python",
   "name": "python3"
  },
  "language_info": {
   "codemirror_mode": {
    "name": "ipython",
    "version": 3
   },
   "file_extension": ".py",
   "mimetype": "text/x-python",
   "name": "python",
   "nbconvert_exporter": "python",
   "pygments_lexer": "ipython3",
   "version": "3.8.5"
  }
 },
 "nbformat": 4,
 "nbformat_minor": 5
}
