{
 "cells": [
  {
   "cell_type": "code",
   "execution_count": 6,
   "id": "029e2c4d",
   "metadata": {},
   "outputs": [
    {
     "ename": "FileNotFoundError",
     "evalue": "[WinError 3] The system cannot find the path specified: '/path/to/documents'",
     "output_type": "error",
     "traceback": [
      "\u001b[1;31m---------------------------------------------------------------------------\u001b[0m",
      "\u001b[1;31mFileNotFoundError\u001b[0m                         Traceback (most recent call last)",
      "\u001b[1;32m~\\AppData\\Local\\Temp/ipykernel_5384/911153533.py\u001b[0m in \u001b[0;36m<module>\u001b[1;34m\u001b[0m\n\u001b[0;32m     17\u001b[0m \u001b[1;33m\u001b[0m\u001b[0m\n\u001b[0;32m     18\u001b[0m \u001b[1;31m# Loop through each file in the directory\u001b[0m\u001b[1;33m\u001b[0m\u001b[1;33m\u001b[0m\u001b[1;33m\u001b[0m\u001b[0m\n\u001b[1;32m---> 19\u001b[1;33m \u001b[1;32mfor\u001b[0m \u001b[0mfilename\u001b[0m \u001b[1;32min\u001b[0m \u001b[0mos\u001b[0m\u001b[1;33m.\u001b[0m\u001b[0mlistdir\u001b[0m\u001b[1;33m(\u001b[0m\u001b[0mdirectory\u001b[0m\u001b[1;33m)\u001b[0m\u001b[1;33m:\u001b[0m\u001b[1;33m\u001b[0m\u001b[1;33m\u001b[0m\u001b[0m\n\u001b[0m\u001b[0;32m     20\u001b[0m     \u001b[1;32mwith\u001b[0m \u001b[0mopen\u001b[0m\u001b[1;33m(\u001b[0m\u001b[0mos\u001b[0m\u001b[1;33m.\u001b[0m\u001b[0mpath\u001b[0m\u001b[1;33m.\u001b[0m\u001b[0mjoin\u001b[0m\u001b[1;33m(\u001b[0m\u001b[0mdirectory\u001b[0m\u001b[1;33m,\u001b[0m \u001b[0mfilename\u001b[0m\u001b[1;33m)\u001b[0m\u001b[1;33m,\u001b[0m \u001b[1;34m\"r\"\u001b[0m\u001b[1;33m)\u001b[0m \u001b[1;32mas\u001b[0m \u001b[0mf\u001b[0m\u001b[1;33m:\u001b[0m\u001b[1;33m\u001b[0m\u001b[1;33m\u001b[0m\u001b[0m\n\u001b[0;32m     21\u001b[0m         \u001b[1;31m# Tokenize the document\u001b[0m\u001b[1;33m\u001b[0m\u001b[1;33m\u001b[0m\u001b[1;33m\u001b[0m\u001b[0m\n",
      "\u001b[1;31mFileNotFoundError\u001b[0m: [WinError 3] The system cannot find the path specified: '/path/to/documents'"
     ]
    }
   ],
   "source": [
    "import os\n",
    "from collections import defaultdict\n",
    "from nltk.tokenize import word_tokenize\n",
    "from nltk.stem import PorterStemmer\n",
    "\n",
    "# Set directory containing the documents\n",
    "directory = \"/path/to/documents\"\n",
    "\n",
    "# Initialize stemmer\n",
    "stemmer = PorterStemmer()\n",
    "\n",
    "# Initialize dictionary to store term counts for each document\n",
    "doc_term_counts = defaultdict(lambda: defaultdict(int))\n",
    "\n",
    "# Initialize set to store unique terms\n",
    "unique_terms = set()\n",
    "\n",
    "# Loop through each file in the directory\n",
    "for filename in os.listdir(directory):\n",
    "    with open(os.path.join(directory, filename), \"r\") as f:\n",
    "        # Tokenize the document\n",
    "        tokens = word_tokenize(f.read())\n",
    "        \n",
    "        # Stem each token and update the term counts for the document\n",
    "        for token in tokens:\n",
    "            stemmed_token = stemmer.stem(token.lower())\n",
    "            doc_term_counts[filename][stemmed_token] += 1\n",
    "            unique_terms.add(stemmed_token)\n",
    "\n",
    "# Sort the unique terms in alphabetical order\n",
    "sorted_terms = sorted(list(unique_terms))\n",
    "\n",
    "# Create the document by term matrix\n",
    "doc_term_matrix = []\n",
    "for doc in doc_term_counts:\n",
    "    row = [doc_term_counts[doc][term] for term in sorted_terms]\n",
    "    doc_term_matrix.append(row)\n"
   ]
  },
  {
   "cell_type": "code",
   "execution_count": 1,
   "id": "eded156d",
   "metadata": {},
   "outputs": [],
   "source": [
    "import numpy as np\n",
    "\n",
    "def modify_query(Q, R, NR, alpha, beta):\n",
    "    # compute the centroid vectors for relevant and non-relevant documents\n",
    "    R_centroid = np.mean(R, axis=0)\n",
    "    NR_centroid = np.mean(NR, axis=0)\n",
    "    \n",
    "    # update the query vector using Rocchio's formula\n",
    "    Q_new = alpha * Q + beta * R_centroid - beta * NR_centroid\n",
    "    \n",
    "    return Q_new\n"
   ]
  },
  {
   "cell_type": "code",
   "execution_count": 2,
   "id": "23b40420",
   "metadata": {},
   "outputs": [
    {
     "name": "stdout",
     "output_type": "stream",
     "text": [
      "Original query:  [0 0 0 0 0 1 0 0 0 0 1 2 0 0 0]\n",
      "New query:  [ 0.125      -0.02083333 -0.10416667  0.0625      0.0625      0.52083333\n",
      "  0.0625      0.0625      0.0625      0.0625      0.47916667  0.89583333\n",
      "  0.          0.          0.0625    ]\n"
     ]
    }
   ],
   "source": [
    "Q = np.array([0, 0, 0, 0, 0, 1, 0, 0, 0, 0, 1, 2, 0, 0, 0])\n",
    "R = np.array([[1, 0, 0, 0, 1, 1, 0, 0, 0, 0, 0, 1, 0, 0, 0],\n",
    "              [1, 1, 0, 0, 0, 1, 0, 0, 0, 0, 0, 0, 0, 0, 1],\n",
    "              [0, 0, 0, 0, 0, 1, 0, 0, 1, 1, 1, 0, 0, 0, 0],\n",
    "              [0, 0, 1, 1, 0, 0, 1, 1, 0, 0, 0, 0, 0, 0, 0]])\n",
    "NR = np.array([[0, 0, 1, 0, 0, 1, 0, 0, 0, 0, 0, 0, 0, 0, 0],\n",
    "              [0, 1, 1, 0, 0, 0, 0, 0, 0, 0, 0, 1, 0, 0, 0],\n",
    "              [0, 0, 0, 0, 0, 1, 0, 0, 0, 0, 1, 1, 0, 0, 0]])\n",
    "\n",
    "alpha = 0.5\n",
    "beta = 0.25\n",
    "\n",
    "Q_new = modify_query(Q, R, NR, alpha, beta)\n",
    "\n",
    "print(\"Original query: \", Q)\n",
    "print(\"New query: \", Q_new)\n"
   ]
  },
  {
   "cell_type": "code",
   "execution_count": null,
   "id": "7e38c19f",
   "metadata": {},
   "outputs": [],
   "source": [
    "import numpy as np\n",
    "\n",
    "def compute_cosine_similarity(dtm, q):\n",
    "    # Compute the dot product of the document-term matrix and the query vector\n",
    "    dot_product = np.dot(dtm, q)\n",
    "\n",
    "    # Compute the Euclidean length of the document-term matrix and the query vector\n",
    "    dtm_norm = np.sqrt(np.sum(dtm ** 2, axis=1))\n",
    "    q_norm = np.sqrt(np.sum(q ** 2))\n",
    "\n",
    "    # Compute the cosine similarity between the document-term matrix and the query vector\n",
    "    cosine_sim = dot_product / (dtm_norm * q_norm)\n",
    "\n",
    "    return cosine_sim\n",
    "\n",
    "# Compute the ranked list of returned documents for Q\n",
    "q = np.array([0, 0, 0, 0, 0, 2, 0, 0, 0, 0, 2, 3, 0, 0, 0])\n",
    "cosine_sim = compute_cosine_similarity(dtm, q)\n",
    "ranked_list_Q = np.argsort(cosine_sim)[::-1]\n",
    "\n",
    "# Compute the ranked list of returned documents for Q1\n",
    "q1 = np.array([0, 1, 1, 0, 0, 0, 0, 0, 0, 0, 0, 0, 1, 1, 1])\n",
    "cosine_sim = compute_cosine_similarity(dtm, q1)\n",
    "ranked_list_Q1 = np.argsort(cosine_sim)[::-1]\n"
   ]
  },
  {
   "cell_type": "code",
   "execution_count": 3,
   "id": "31e7c07f",
   "metadata": {},
   "outputs": [],
   "source": [
    "import numpy as np\n",
    "\n",
    "def compute_t2t_association_matrix(doc_term_matrix):\n",
    "    # compute the transpose of document-term matrix\n",
    "    term_doc_matrix = doc_term_matrix.T\n",
    "    \n",
    "    # compute the term-term matrix\n",
    "    t2t_matrix = term_doc_matrix.dot(doc_term_matrix)\n",
    "    \n",
    "    # compute the diagonal matrix of term frequency\n",
    "    diag_tf = np.diag(np.sum(doc_term_matrix, axis=0))\n",
    "    \n",
    "    # compute the Jaccard coefficient\n",
    "    jaccard_coeff = np.divide(t2t_matrix, diag_tf + diag_tf.T - t2t_matrix)\n",
    "    \n",
    "    # set NaN and diagonal elements to 0\n",
    "    jaccard_coeff = np.nan_to_num(jaccard_coeff)\n",
    "    np.fill_diagonal(jaccard_coeff, 0)\n",
    "    \n",
    "    # normalize the matrix\n",
    "    norm_factor = np.linalg.norm(jaccard_coeff, axis=1, keepdims=True)\n",
    "    norm_jaccard_coeff = np.divide(jaccard_coeff, norm_factor)\n",
    "    \n",
    "    return norm_jaccard_coeff\n"
   ]
  },
  {
   "cell_type": "code",
   "execution_count": 4,
   "id": "7dde3e69",
   "metadata": {},
   "outputs": [
    {
     "name": "stdout",
     "output_type": "stream",
     "text": [
      "[[ 0.          0.          0.          0.         -1.          0.\n",
      "   0.          0.          0.          0.          0.          0.\n",
      "   0.          0.          0.        ]\n",
      " [ 0.          0.         -0.57735027 -0.57735027  0.          0.\n",
      "   0.          0.          0.          0.          0.          0.\n",
      "   0.          0.         -0.57735027]\n",
      " [ 0.         -0.70710678  0.         -0.70710678  0.          0.\n",
      "   0.          0.          0.          0.          0.          0.\n",
      "   0.          0.          0.        ]\n",
      " [ 0.         -0.70710678 -0.70710678  0.          0.          0.\n",
      "   0.          0.          0.          0.          0.          0.\n",
      "   0.          0.          0.        ]\n",
      " [-1.          0.          0.          0.          0.          0.\n",
      "   0.          0.          0.          0.          0.          0.\n",
      "   0.          0.          0.        ]\n",
      " [ 0.          0.          0.          0.          0.          0.\n",
      "  -0.4472136  -0.4472136  -0.4472136  -0.4472136  -0.4472136   0.\n",
      "   0.          0.          0.        ]\n",
      " [ 0.          0.          0.          0.          0.         -0.4472136\n",
      "   0.         -0.4472136  -0.4472136  -0.4472136  -0.4472136   0.\n",
      "   0.          0.          0.        ]\n",
      " [ 0.          0.          0.          0.          0.         -0.4472136\n",
      "  -0.4472136   0.         -0.4472136  -0.4472136  -0.4472136   0.\n",
      "   0.          0.          0.        ]\n",
      " [ 0.          0.          0.          0.          0.         -0.4472136\n",
      "  -0.4472136  -0.4472136   0.         -0.4472136  -0.4472136   0.\n",
      "   0.          0.          0.        ]\n",
      " [ 0.          0.          0.          0.          0.         -0.4472136\n",
      "  -0.4472136  -0.4472136  -0.4472136   0.         -0.4472136   0.\n",
      "   0.          0.          0.        ]\n",
      " [ 0.          0.          0.          0.          0.         -0.4472136\n",
      "  -0.4472136  -0.4472136  -0.4472136  -0.4472136   0.          0.\n",
      "   0.          0.          0.        ]\n",
      " [ 0.          0.          0.          0.          0.          0.\n",
      "   0.          0.          0.          0.          0.          0.\n",
      "  -0.70710678 -0.70710678  0.        ]\n",
      " [ 0.          0.          0.          0.          0.          0.\n",
      "   0.          0.          0.          0.          0.         -0.70710678\n",
      "   0.         -0.70710678  0.        ]\n",
      " [ 0.          0.          0.          0.          0.          0.\n",
      "   0.          0.          0.          0.          0.         -0.70710678\n",
      "  -0.70710678  0.          0.        ]\n",
      " [ 0.         -1.          0.          0.          0.          0.\n",
      "   0.          0.          0.          0.          0.          0.\n",
      "   0.          0.          0.        ]]\n"
     ]
    },
    {
     "name": "stderr",
     "output_type": "stream",
     "text": [
      "C:\\Users\\FUJUTSU\\AppData\\Local\\Temp/ipykernel_5384/944389907.py:14: RuntimeWarning: invalid value encountered in true_divide\n",
      "  jaccard_coeff = np.divide(t2t_matrix, diag_tf + diag_tf.T - t2t_matrix)\n"
     ]
    }
   ],
   "source": [
    "# example document-term matrix\n",
    "doc_term_matrix = np.array([[0, 1, 1, 1, 0, 0, 0, 0, 0, 0, 0, 0, 0, 0, 0],\n",
    "                            [1, 0, 0, 0, 1, 0, 0, 0, 0, 0, 0, 0, 0, 0, 0],\n",
    "                            [0, 1, 0, 0, 0, 0, 0, 0, 0, 0, 0, 0, 0, 0, 1],\n",
    "                            [0, 0, 0, 0, 0, 1, 1, 1, 1, 1, 1, 0, 0, 0, 0],\n",
    "                            [0, 0, 0, 0, 0, 0, 0, 0, 0, 0, 0, 1, 1, 1, 0],\n",
    "                            [0, 0, 0, 0, 0, 0, 0, 0, 0, 0, 0, 1, 1, 1, 0]])\n",
    "\n",
    "# compute term-by-term association matrix\n",
    "t2t_matrix = compute_t2t_association_matrix(doc_term_matrix)\n",
    "\n",
    "# display the result\n",
    "print(t2t_matrix)\n"
   ]
  },
  {
   "cell_type": "code",
   "execution_count": 5,
   "id": "4fa05157",
   "metadata": {},
   "outputs": [],
   "source": [
    "import heapq\n",
    "\n",
    "def expand_query(S, q, n):\n",
    "    expanded_query = set(q)\n",
    "    for term in q:\n",
    "        # Get the n most similar terms to the current term\n",
    "        similarities = S[term]\n",
    "        most_similar = heapq.nlargest(n, similarities, key=similarities.get)\n",
    "        expanded_query.update(most_similar)\n",
    "    return list(expanded_query - set(q))\n",
    "\n"
   ]
  },
  {
   "cell_type": "code",
   "execution_count": null,
   "id": "eabdc6e6",
   "metadata": {},
   "outputs": [],
   "source": []
  },
  {
   "cell_type": "code",
   "execution_count": null,
   "id": "5aace8c0",
   "metadata": {},
   "outputs": [],
   "source": []
  }
 ],
 "metadata": {
  "kernelspec": {
   "display_name": "Python 3 (ipykernel)",
   "language": "python",
   "name": "python3"
  },
  "language_info": {
   "codemirror_mode": {
    "name": "ipython",
    "version": 3
   },
   "file_extension": ".py",
   "mimetype": "text/x-python",
   "name": "python",
   "nbconvert_exporter": "python",
   "pygments_lexer": "ipython3",
   "version": "3.8.12"
  }
 },
 "nbformat": 4,
 "nbformat_minor": 5
}
