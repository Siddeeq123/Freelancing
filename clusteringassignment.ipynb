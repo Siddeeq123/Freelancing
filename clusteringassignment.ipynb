{
  "cells": [
    {
      "cell_type": "markdown",
      "metadata": {
        "id": "OBB1yn-GMdCa"
      },
      "source": [
        "# Programming Assignment # 4 Clustering"
      ]
    },
    {
      "cell_type": "markdown",
      "metadata": {
        "id": "hjR5uCyeMdCd"
      },
      "source": [
        "## Student Details"
      ]
    },
    {
      "cell_type": "markdown",
      "metadata": {
        "id": "mKGna4QgMdCd"
      },
      "source": [
        "Group members name with ID:-\n",
        "\n",
        "--> Everyone should make sure to follow all the instructions given in the assignment, Marks would be deducted if not.\n",
        "\n",
        "--> Any cheating including plagarism, Will be reported to the corresponding UTA's instance.\n",
        "\n",
        "--> DO NOT FORGET TO CITE YOUR REFERENCES.\n",
        "\n",
        "--> Make sure to explain each of your work.\n",
        "\n",
        "**DO NOT DELETE THIS CELL**\n"
      ]
    },
    {
      "cell_type": "markdown",
      "metadata": {
        "id": "LEEbHA_yMdCe"
      },
      "source": [
        "Submission Instructions:-\n",
        "\n",
        "--> Create a folder and name it 'lastname_firstname_yourNetId_PA4'\n",
        "\n",
        "--> Rename the submission file as 'lastname_firstname_yourNetId_PA4.ipynb'\n",
        "\n",
        "--> Zip the fodler and submit it to canvas. Submission folder should be 'lastname_firstname_yourNetId_PA4.ZIP'"
      ]
    },
    {
      "cell_type": "markdown",
      "metadata": {
        "id": "lOGQYeq7MdCe"
      },
      "source": [
        "## Assignment Details"
      ]
    },
    {
      "cell_type": "markdown",
      "metadata": {
        "collapsed": true,
        "id": "aAqE_JQ-MdCf"
      },
      "source": [
        "In this assignment you will learn about cluster using K-means clustering and Hierarchical Agglomerative clustering for predicted and actual values.\n",
        "\n",
        "Each team will have a total of 3 .ipynb file. Each member will work on a different dataset.csv\n",
        "\n",
        "\n",
        "You have 3 dataset files:-\n",
        "1)DataSet_1\n",
        "\n",
        "2)DataSet_2\n",
        "\n",
        "3)DataSet_3\n",
        "\n",
        "REPORT:\n",
        "\n",
        "Make a 4-5 minutes video to explain what you have done and what did you learn from it. - 10 points\n",
        "\n",
        "\n"
      ]
    },
    {
      "cell_type": "code",
      "execution_count": null,
      "metadata": {
        "id": "iCpwUZMMMdCg",
        "outputId": "a506b5b4-9d8d-46e9-d73b-dcd43ab22495"
      },
      "outputs": [
        {
          "data": {
            "application/javascript": "IPython.OutputArea.prototype._should_scroll = function(lines) {\n    return false;\n}\n",
            "text/plain": [
              "<IPython.core.display.Javascript object>"
            ]
          },
          "metadata": {},
          "output_type": "display_data"
        }
      ],
      "source": [
        "%%javascript\n",
        "IPython.OutputArea.prototype._should_scroll = function(lines) {\n",
        "    return false;\n",
        "}"
      ]
    },
    {
      "cell_type": "markdown",
      "metadata": {
        "id": "cIuLyYxfMdCi"
      },
      "source": [
        "## Required Python Packages "
      ]
    },
    {
      "cell_type": "code",
      "execution_count": null,
      "metadata": {
        "id": "4WyqFQFfMdCi"
      },
      "outputs": [],
      "source": [
        "# Import required Python packages here\n",
        "#Seaborn,numpy,pandas,sklearn,matplotlib only\n"
      ]
    },
    {
      "cell_type": "markdown",
      "metadata": {
        "id": "f5BBf7lyMdCj"
      },
      "source": [
        "## TASK 1: K-Means Clustering"
      ]
    },
    {
      "cell_type": "markdown",
      "metadata": {
        "id": "-fPIJ4baMdCj"
      },
      "source": [
        "### Task 1-a: Determine “k” value from the elbow method"
      ]
    },
    {
      "cell_type": "markdown",
      "metadata": {
        "id": "nGBNoASJMdCk"
      },
      "source": [
        "In this task, you will be using the elbow method to determine the optimal number of clusters for k-means clustering.\n",
        "\n",
        "For this task, you need to perform the elbow method for k from 1 to 10 and plot a line chart of the SSE for each value of k, and determine the best k (the number of clusters). Note that you need to use the whole dataset in this task and you need to print your decision for k."
      ]
    },
    {
      "cell_type": "code",
      "execution_count": 1,
      "metadata": {
        "colab": {
          "base_uri": "https://localhost:8080/",
          "height": 441
        },
        "id": "Qfcz3qtKNSo-",
        "outputId": "34e692d8-d291-4d33-aee7-815e894a2b64"
      },
      "outputs": [
        {
          "name": "stdout",
          "output_type": "stream",
          "text": [
            "[0 0 0 ... 1 0 0]\n"
          ]
        },
        {
          "data": {
            "text/html": [
              "\n",
              "  <div id=\"df-29c65f96-2f54-431a-8d75-9892c3b6f55c\">\n",
              "    <div class=\"colab-df-container\">\n",
              "      <div>\n",
              "<style scoped>\n",
              "    .dataframe tbody tr th:only-of-type {\n",
              "        vertical-align: middle;\n",
              "    }\n",
              "\n",
              "    .dataframe tbody tr th {\n",
              "        vertical-align: top;\n",
              "    }\n",
              "\n",
              "    .dataframe thead th {\n",
              "        text-align: right;\n",
              "    }\n",
              "</style>\n",
              "<table border=\"1\" class=\"dataframe\">\n",
              "  <thead>\n",
              "    <tr style=\"text-align: right;\">\n",
              "      <th></th>\n",
              "      <th>Age</th>\n",
              "      <th>WorkClass</th>\n",
              "      <th>Fnlwght</th>\n",
              "      <th>Education</th>\n",
              "      <th>EducationNumber</th>\n",
              "      <th>MaritalStatus</th>\n",
              "      <th>Occupation</th>\n",
              "      <th>Relationship</th>\n",
              "      <th>Race</th>\n",
              "      <th>Sex</th>\n",
              "      <th>CapitalGain</th>\n",
              "      <th>CapitalLoss</th>\n",
              "      <th>HoursPerWeek</th>\n",
              "      <th>NativeCountry</th>\n",
              "    </tr>\n",
              "  </thead>\n",
              "  <tbody>\n",
              "    <tr>\n",
              "      <th>0</th>\n",
              "      <td>39</td>\n",
              "      <td>6.0</td>\n",
              "      <td>77516</td>\n",
              "      <td>9.0</td>\n",
              "      <td>13</td>\n",
              "      <td>4.0</td>\n",
              "      <td>1.0</td>\n",
              "      <td>1.0</td>\n",
              "      <td>4.0</td>\n",
              "      <td>1.0</td>\n",
              "      <td>2174</td>\n",
              "      <td>0</td>\n",
              "      <td>40</td>\n",
              "      <td>37.0</td>\n",
              "    </tr>\n",
              "    <tr>\n",
              "      <th>1</th>\n",
              "      <td>50</td>\n",
              "      <td>5.0</td>\n",
              "      <td>83311</td>\n",
              "      <td>9.0</td>\n",
              "      <td>13</td>\n",
              "      <td>2.0</td>\n",
              "      <td>4.0</td>\n",
              "      <td>0.0</td>\n",
              "      <td>4.0</td>\n",
              "      <td>1.0</td>\n",
              "      <td>0</td>\n",
              "      <td>0</td>\n",
              "      <td>13</td>\n",
              "      <td>37.0</td>\n",
              "    </tr>\n",
              "    <tr>\n",
              "      <th>2</th>\n",
              "      <td>38</td>\n",
              "      <td>3.0</td>\n",
              "      <td>215646</td>\n",
              "      <td>11.0</td>\n",
              "      <td>9</td>\n",
              "      <td>0.0</td>\n",
              "      <td>6.0</td>\n",
              "      <td>1.0</td>\n",
              "      <td>4.0</td>\n",
              "      <td>1.0</td>\n",
              "      <td>0</td>\n",
              "      <td>0</td>\n",
              "      <td>40</td>\n",
              "      <td>37.0</td>\n",
              "    </tr>\n",
              "    <tr>\n",
              "      <th>3</th>\n",
              "      <td>53</td>\n",
              "      <td>3.0</td>\n",
              "      <td>234721</td>\n",
              "      <td>1.0</td>\n",
              "      <td>7</td>\n",
              "      <td>2.0</td>\n",
              "      <td>6.0</td>\n",
              "      <td>0.0</td>\n",
              "      <td>2.0</td>\n",
              "      <td>1.0</td>\n",
              "      <td>0</td>\n",
              "      <td>0</td>\n",
              "      <td>40</td>\n",
              "      <td>37.0</td>\n",
              "    </tr>\n",
              "    <tr>\n",
              "      <th>4</th>\n",
              "      <td>28</td>\n",
              "      <td>3.0</td>\n",
              "      <td>338409</td>\n",
              "      <td>9.0</td>\n",
              "      <td>13</td>\n",
              "      <td>2.0</td>\n",
              "      <td>10.0</td>\n",
              "      <td>5.0</td>\n",
              "      <td>2.0</td>\n",
              "      <td>0.0</td>\n",
              "      <td>0</td>\n",
              "      <td>0</td>\n",
              "      <td>40</td>\n",
              "      <td>5.0</td>\n",
              "    </tr>\n",
              "    <tr>\n",
              "      <th>...</th>\n",
              "      <td>...</td>\n",
              "      <td>...</td>\n",
              "      <td>...</td>\n",
              "      <td>...</td>\n",
              "      <td>...</td>\n",
              "      <td>...</td>\n",
              "      <td>...</td>\n",
              "      <td>...</td>\n",
              "      <td>...</td>\n",
              "      <td>...</td>\n",
              "      <td>...</td>\n",
              "      <td>...</td>\n",
              "      <td>...</td>\n",
              "      <td>...</td>\n",
              "    </tr>\n",
              "    <tr>\n",
              "      <th>4995</th>\n",
              "      <td>43</td>\n",
              "      <td>3.0</td>\n",
              "      <td>222971</td>\n",
              "      <td>4.0</td>\n",
              "      <td>3</td>\n",
              "      <td>4.0</td>\n",
              "      <td>7.0</td>\n",
              "      <td>4.0</td>\n",
              "      <td>4.0</td>\n",
              "      <td>0.0</td>\n",
              "      <td>0</td>\n",
              "      <td>0</td>\n",
              "      <td>40</td>\n",
              "      <td>24.0</td>\n",
              "    </tr>\n",
              "    <tr>\n",
              "      <th>4996</th>\n",
              "      <td>31</td>\n",
              "      <td>3.0</td>\n",
              "      <td>259425</td>\n",
              "      <td>11.0</td>\n",
              "      <td>9</td>\n",
              "      <td>2.0</td>\n",
              "      <td>3.0</td>\n",
              "      <td>0.0</td>\n",
              "      <td>4.0</td>\n",
              "      <td>1.0</td>\n",
              "      <td>0</td>\n",
              "      <td>0</td>\n",
              "      <td>40</td>\n",
              "      <td>37.0</td>\n",
              "    </tr>\n",
              "    <tr>\n",
              "      <th>4997</th>\n",
              "      <td>47</td>\n",
              "      <td>4.0</td>\n",
              "      <td>212120</td>\n",
              "      <td>11.0</td>\n",
              "      <td>9</td>\n",
              "      <td>2.0</td>\n",
              "      <td>3.0</td>\n",
              "      <td>0.0</td>\n",
              "      <td>4.0</td>\n",
              "      <td>1.0</td>\n",
              "      <td>0</td>\n",
              "      <td>0</td>\n",
              "      <td>40</td>\n",
              "      <td>37.0</td>\n",
              "    </tr>\n",
              "    <tr>\n",
              "      <th>4998</th>\n",
              "      <td>26</td>\n",
              "      <td>3.0</td>\n",
              "      <td>245880</td>\n",
              "      <td>11.0</td>\n",
              "      <td>9</td>\n",
              "      <td>4.0</td>\n",
              "      <td>1.0</td>\n",
              "      <td>1.0</td>\n",
              "      <td>4.0</td>\n",
              "      <td>1.0</td>\n",
              "      <td>0</td>\n",
              "      <td>0</td>\n",
              "      <td>60</td>\n",
              "      <td>37.0</td>\n",
              "    </tr>\n",
              "    <tr>\n",
              "      <th>4999</th>\n",
              "      <td>58</td>\n",
              "      <td>2.0</td>\n",
              "      <td>54947</td>\n",
              "      <td>15.0</td>\n",
              "      <td>10</td>\n",
              "      <td>4.0</td>\n",
              "      <td>10.0</td>\n",
              "      <td>1.0</td>\n",
              "      <td>4.0</td>\n",
              "      <td>0.0</td>\n",
              "      <td>0</td>\n",
              "      <td>0</td>\n",
              "      <td>55</td>\n",
              "      <td>37.0</td>\n",
              "    </tr>\n",
              "  </tbody>\n",
              "</table>\n",
              "<p>5000 rows × 14 columns</p>\n",
              "</div>\n",
              "      <button class=\"colab-df-convert\" onclick=\"convertToInteractive('df-29c65f96-2f54-431a-8d75-9892c3b6f55c')\"\n",
              "              title=\"Convert this dataframe to an interactive table.\"\n",
              "              style=\"display:none;\">\n",
              "        \n",
              "  <svg xmlns=\"http://www.w3.org/2000/svg\" height=\"24px\"viewBox=\"0 0 24 24\"\n",
              "       width=\"24px\">\n",
              "    <path d=\"M0 0h24v24H0V0z\" fill=\"none\"/>\n",
              "    <path d=\"M18.56 5.44l.94 2.06.94-2.06 2.06-.94-2.06-.94-.94-2.06-.94 2.06-2.06.94zm-11 1L8.5 8.5l.94-2.06 2.06-.94-2.06-.94L8.5 2.5l-.94 2.06-2.06.94zm10 10l.94 2.06.94-2.06 2.06-.94-2.06-.94-.94-2.06-.94 2.06-2.06.94z\"/><path d=\"M17.41 7.96l-1.37-1.37c-.4-.4-.92-.59-1.43-.59-.52 0-1.04.2-1.43.59L10.3 9.45l-7.72 7.72c-.78.78-.78 2.05 0 2.83L4 21.41c.39.39.9.59 1.41.59.51 0 1.02-.2 1.41-.59l7.78-7.78 2.81-2.81c.8-.78.8-2.07 0-2.86zM5.41 20L4 18.59l7.72-7.72 1.47 1.35L5.41 20z\"/>\n",
              "  </svg>\n",
              "      </button>\n",
              "      \n",
              "  <style>\n",
              "    .colab-df-container {\n",
              "      display:flex;\n",
              "      flex-wrap:wrap;\n",
              "      gap: 12px;\n",
              "    }\n",
              "\n",
              "    .colab-df-convert {\n",
              "      background-color: #E8F0FE;\n",
              "      border: none;\n",
              "      border-radius: 50%;\n",
              "      cursor: pointer;\n",
              "      display: none;\n",
              "      fill: #1967D2;\n",
              "      height: 32px;\n",
              "      padding: 0 0 0 0;\n",
              "      width: 32px;\n",
              "    }\n",
              "\n",
              "    .colab-df-convert:hover {\n",
              "      background-color: #E2EBFA;\n",
              "      box-shadow: 0px 1px 2px rgba(60, 64, 67, 0.3), 0px 1px 3px 1px rgba(60, 64, 67, 0.15);\n",
              "      fill: #174EA6;\n",
              "    }\n",
              "\n",
              "    [theme=dark] .colab-df-convert {\n",
              "      background-color: #3B4455;\n",
              "      fill: #D2E3FC;\n",
              "    }\n",
              "\n",
              "    [theme=dark] .colab-df-convert:hover {\n",
              "      background-color: #434B5C;\n",
              "      box-shadow: 0px 1px 3px 1px rgba(0, 0, 0, 0.15);\n",
              "      filter: drop-shadow(0px 1px 2px rgba(0, 0, 0, 0.3));\n",
              "      fill: #FFFFFF;\n",
              "    }\n",
              "  </style>\n",
              "\n",
              "      <script>\n",
              "        const buttonEl =\n",
              "          document.querySelector('#df-29c65f96-2f54-431a-8d75-9892c3b6f55c button.colab-df-convert');\n",
              "        buttonEl.style.display =\n",
              "          google.colab.kernel.accessAllowed ? 'block' : 'none';\n",
              "\n",
              "        async function convertToInteractive(key) {\n",
              "          const element = document.querySelector('#df-29c65f96-2f54-431a-8d75-9892c3b6f55c');\n",
              "          const dataTable =\n",
              "            await google.colab.kernel.invokeFunction('convertToInteractive',\n",
              "                                                     [key], {});\n",
              "          if (!dataTable) return;\n",
              "\n",
              "          const docLinkHtml = 'Like what you see? Visit the ' +\n",
              "            '<a target=\"_blank\" href=https://colab.research.google.com/notebooks/data_table.ipynb>data table notebook</a>'\n",
              "            + ' to learn more about interactive tables.';\n",
              "          element.innerHTML = '';\n",
              "          dataTable['output_type'] = 'display_data';\n",
              "          await google.colab.output.renderOutput(dataTable, element);\n",
              "          const docLink = document.createElement('div');\n",
              "          docLink.innerHTML = docLinkHtml;\n",
              "          element.appendChild(docLink);\n",
              "        }\n",
              "      </script>\n",
              "    </div>\n",
              "  </div>\n",
              "  "
            ],
            "text/plain": [
              "      Age  WorkClass  Fnlwght  Education  EducationNumber  MaritalStatus  \\\n",
              "0      39        6.0    77516        9.0               13            4.0   \n",
              "1      50        5.0    83311        9.0               13            2.0   \n",
              "2      38        3.0   215646       11.0                9            0.0   \n",
              "3      53        3.0   234721        1.0                7            2.0   \n",
              "4      28        3.0   338409        9.0               13            2.0   \n",
              "...   ...        ...      ...        ...              ...            ...   \n",
              "4995   43        3.0   222971        4.0                3            4.0   \n",
              "4996   31        3.0   259425       11.0                9            2.0   \n",
              "4997   47        4.0   212120       11.0                9            2.0   \n",
              "4998   26        3.0   245880       11.0                9            4.0   \n",
              "4999   58        2.0    54947       15.0               10            4.0   \n",
              "\n",
              "      Occupation  Relationship  Race  Sex  CapitalGain  CapitalLoss  \\\n",
              "0            1.0           1.0   4.0  1.0         2174            0   \n",
              "1            4.0           0.0   4.0  1.0            0            0   \n",
              "2            6.0           1.0   4.0  1.0            0            0   \n",
              "3            6.0           0.0   2.0  1.0            0            0   \n",
              "4           10.0           5.0   2.0  0.0            0            0   \n",
              "...          ...           ...   ...  ...          ...          ...   \n",
              "4995         7.0           4.0   4.0  0.0            0            0   \n",
              "4996         3.0           0.0   4.0  1.0            0            0   \n",
              "4997         3.0           0.0   4.0  1.0            0            0   \n",
              "4998         1.0           1.0   4.0  1.0            0            0   \n",
              "4999        10.0           1.0   4.0  0.0            0            0   \n",
              "\n",
              "      HoursPerWeek  NativeCountry  \n",
              "0               40           37.0  \n",
              "1               13           37.0  \n",
              "2               40           37.0  \n",
              "3               40           37.0  \n",
              "4               40            5.0  \n",
              "...            ...            ...  \n",
              "4995            40           24.0  \n",
              "4996            40           37.0  \n",
              "4997            40           37.0  \n",
              "4998            60           37.0  \n",
              "4999            55           37.0  \n",
              "\n",
              "[5000 rows x 14 columns]"
            ]
          },
          "execution_count": 1,
          "metadata": {},
          "output_type": "execute_result"
        }
      ],
      "source": [
        "# Reading file\n",
        "import pandas as pd\n",
        "\n",
        "\n",
        "# Reading the dataset\n",
        "df = pd.read_csv('/content/DataSet_1.csv')\n",
        "\n",
        "\n",
        "# First step converting string to numeric\n",
        "from sklearn.preprocessing import LabelEncoder\n",
        "\n",
        "\n",
        "from sklearn.preprocessing import OrdinalEncoder\n",
        "# define ordinal encoding\n",
        "encoder = OrdinalEncoder()\n",
        "\n",
        "\n",
        "# Label encoder to convert string into binary for computations\n",
        "labelencoder_y=LabelEncoder()\n",
        "\n",
        "\n",
        "# Our Y column target attribute\n",
        "y = df['Class']\n",
        "y = labelencoder_y.fit_transform(y)\n",
        "print(y)\n",
        "\n",
        "\n",
        "# Our X column features \n",
        "X=df.drop([\"Class\"],axis=1)\n",
        "\n",
        "\n",
        "# Converting columns into numeric through label encoder or manual a['GENDER']=a['GENDER'].replace({'M':0,'F':1})\n",
        "strings  =  X.select_dtypes('object')\n",
        "for i in strings.columns:\n",
        "    X[i] = encoder.fit_transform(X[i].to_numpy().reshape(-1,1))\n",
        "\n",
        "\n",
        "\n",
        "X"
      ]
    },
    {
      "cell_type": "code",
      "execution_count": 2,
      "metadata": {
        "colab": {
          "base_uri": "https://localhost:8080/"
        },
        "id": "MeyuxsBmNsUw",
        "outputId": "99352e76-7a24-4261-da50-990bd5a61b4c"
      },
      "outputs": [
        {
          "name": "stdout",
          "output_type": "stream",
          "text": [
            "[[3.90000e+01 6.00000e+00 7.75160e+04 ... 0.00000e+00 4.00000e+01\n",
            "  3.70000e+01]\n",
            " [5.00000e+01 5.00000e+00 8.33110e+04 ... 0.00000e+00 1.30000e+01\n",
            "  3.70000e+01]\n",
            " [3.80000e+01 3.00000e+00 2.15646e+05 ... 0.00000e+00 4.00000e+01\n",
            "  3.70000e+01]\n",
            " ...\n",
            " [4.70000e+01 4.00000e+00 2.12120e+05 ... 0.00000e+00 4.00000e+01\n",
            "  3.70000e+01]\n",
            " [2.60000e+01 3.00000e+00 2.45880e+05 ... 0.00000e+00 6.00000e+01\n",
            "  3.70000e+01]\n",
            " [5.80000e+01 2.00000e+00 5.49470e+04 ... 0.00000e+00 5.50000e+01\n",
            "  3.70000e+01]]\n"
          ]
        }
      ],
      "source": [
        "# Handling missing values like nan\n",
        "from sklearn.impute import SimpleImputer\n",
        "import numpy as np\n",
        "\n",
        "imputer = SimpleImputer(missing_values=np.nan,\n",
        "    strategy='mean',verbose=0)\n",
        "\n",
        "imputer.fit(X)\n",
        "\n",
        "X = imputer.transform(X)\n",
        "\n",
        "print(X)"
      ]
    },
    {
      "cell_type": "code",
      "execution_count": null,
      "metadata": {
        "id": "yssiDEbBMdCk",
        "scrolled": true
      },
      "outputs": [],
      "source": [
        "#########################begin code for Task 1-a - 10 Points\n",
        "\n",
        "    \n",
        "\n",
        "## Describe which is the optimal value for K and explain why you choose it as the optimal value\n"
      ]
    },
    {
      "cell_type": "markdown",
      "metadata": {
        "id": "rEp0oFZBMdCl"
      },
      "source": [
        "### Task 1-b: Visualization for K-Means Clustering "
      ]
    },
    {
      "cell_type": "markdown",
      "metadata": {
        "id": "QeyD_FMbMdCl"
      },
      "source": [
        "--> Performing k-means clustering for k=3,4,5 and visualize the predicted training samples and actual training samples on scatter plots. \n",
        "\n",
        "--> Use 75% of the dataset for training and 25% of the dataset for testing. Perform kmeans for clustering samples in your training set. \n",
        "\n",
        "--> Visualize predicted training samples and actual training samples on two scatter plots.Since your dataset has multiple features(dimensions), you won't be able to plot your data on a scatter plot. Thus, you’re going to visualize your data with the help of one of the Dimensionality Reduction techniques, namely Principal Component Analysis (PCA.You can easily apply PCA to your data with the help of scikit-learn.\n",
        "\n"
      ]
    },
    {
      "cell_type": "code",
      "execution_count": null,
      "metadata": {
        "id": "HuasQwsbMdCm"
      },
      "outputs": [],
      "source": [
        "###################begin code for Task 1-b-1: Split the datasetand set the random_state as 2021 without fail - 5 points\n",
        "\n",
        "### Important!!!\n",
        "\n",
        "###################end code for Task 1-b-1"
      ]
    },
    {
      "cell_type": "code",
      "execution_count": null,
      "metadata": {
        "id": "UOIyH53bMdCn"
      },
      "outputs": [],
      "source": [
        "\n",
        "####Task 1-b-2: Visualize the predicted training labels vs actual training labels - 10 points\n",
        "# Import PCA\n",
        "from sklearn.decomposition import PCA\n",
        "\n",
        "\n",
        "# Create the KMeans model\n",
        "\n",
        "# Compute cluster centers and predict cluster index for each sample \n",
        "\n",
        "# Model and fit the data to the PCA model\n",
        "X_train_pca = None\n",
        "\n",
        "# Visualize the predicted training labels vs actual training labels. \n",
        "### scatter(x, y, your_data)\n",
        "\n",
        "\n",
        "## Visualize using K=3,4,5 as well\n",
        "\n",
        "#####end Task 1-b-2\n"
      ]
    },
    {
      "cell_type": "code",
      "execution_count": null,
      "metadata": {
        "id": "HwJtSL-GMdCn"
      },
      "outputs": [],
      "source": [
        "#### Task 1-b-3: Visualize the predicted testing labels vs actual testing labels - 10 Points\n",
        "\n",
        "\n",
        "# predict cluster index for each sample \n",
        "\n",
        "# Model and fit the data to the PCA model\n",
        "\n",
        "\n",
        "# Visualize the predicted testing labels vs actual testing labels. \n",
        "### scatter(x, y, your_data)\n",
        "\n",
        "\n",
        "\n",
        "####end Task 1-b-3"
      ]
    },
    {
      "cell_type": "code",
      "execution_count": null,
      "metadata": {
        "id": "xjBKHCMZMdCo"
      },
      "outputs": [],
      "source": [
        "######Task 1-b-4: you need to provide the evaluation of your clustering model. \n",
        "#Print out a 2D confusion matrix and Print out a 2-D confusion matrix for all K values calculated above - 05 Points\n",
        "\n",
        "######end Task 1-b-4"
      ]
    },
    {
      "cell_type": "markdown",
      "metadata": {
        "id": "AChKGfGNMdCo"
      },
      "source": [
        "## Task 2-a: Find the best Hierarchical Agglomerative Clustering Model"
      ]
    },
    {
      "cell_type": "markdown",
      "metadata": {
        "id": "n9nEtR4oMdCp"
      },
      "source": [
        "--> Perform Hierarchical Agglomerative clustering with different linkage methods for complete and average and different similarity measures for cosine, euclidean, and manhattan\n",
        "\n",
        "--> Use F1 score for evaluation by taking number of clusters as 2.\n",
        "\n"
      ]
    },
    {
      "cell_type": "code",
      "execution_count": null,
      "metadata": {
        "id": "4ZEpke3yMdCp",
        "outputId": "edb63025-4a8c-408a-b32d-a34c6f5015f9"
      },
      "outputs": [
        {
          "name": "stdout",
          "output_type": "stream",
          "text": [
            "F1-score for complete linkage + cosine None\n",
            "F1-score for complete linkage + euclidean None\n",
            "F1-score for complete linkage + manhattan None\n",
            "F1-score for average linkage + cosine None\n",
            "F1-score for average linkage + euclidean None\n",
            "F1-score for average linkage + manhattan None\n"
          ]
        }
      ],
      "source": [
        "###################begin code for Task 2-a: Print out a confusion matrix - 20 Points\n",
        "# Import AgglomerativeClustering\n",
        "from sklearn.cluster import AgglomerativeClustering\n",
        "# Import pairwise_distances for calculating pairwise distance matrix\n",
        "from sklearn.metrics.pairwise import pairwise_distances\n",
        "# Import f1_score\n",
        "from sklearn.metrics import f1_score\n",
        "\n",
        "\n",
        "## Calculate pairwise distance matrix for X_train\n",
        "pdm_train = None\n",
        "\n",
        "## Model and fit the training data to the AgglomerativeClustering model\n",
        "## complete for each linkage methods and for each similarity measures.\n",
        "\n",
        "\n",
        "## Print the 2-D confusion matrix with different linkage methods (complete and average) and different similarity measures (cosine, euclidean, and manhattan) \n",
        "##To find the best pair of linkage method and similarity measure. \n",
        "\n",
        "print(\"F1-score for complete linkage + cosine\", None)\n",
        "print(\"F1-score for complete linkage + euclidean\", None)\n",
        "print(\"F1-score for complete linkage + manhattan\", None)\n",
        "print(\"F1-score for average linkage + cosine\", None)\n",
        "print(\"F1-score for average linkage + euclidean\", None)\n",
        "print(\"F1-score for average linkage + manhattan\", None)\n",
        "\n",
        "###################end code for Task 2-a\n"
      ]
    },
    {
      "cell_type": "markdown",
      "metadata": {
        "id": "k_Q3XWQVMdCq"
      },
      "source": [
        "## Task 2-b:  Visualization for Hierarchical Agglomerative Clustering"
      ]
    },
    {
      "cell_type": "markdown",
      "metadata": {
        "id": "wxBj8uGTMdCq"
      },
      "source": [
        "--> Use the best model from above and use to visualize predicted and actual trianing samples on scatter plot. Use Pca model from X_train_pca from Task 1-b-2. \n"
      ]
    },
    {
      "cell_type": "code",
      "execution_count": null,
      "metadata": {
        "id": "f4O_ePokMdCr"
      },
      "outputs": [],
      "source": [
        "###################begin code for Task 2-b: Visualize the predicted training labels vs actual training labels - 10 Points\n",
        "\n",
        "\n",
        "\n",
        "# Visualize the predicted training labels versus actual training labels. \n",
        "\n",
        "###################end code for Task 2-b"
      ]
    },
    {
      "cell_type": "markdown",
      "metadata": {
        "id": "Svs6Em0XMdCr"
      },
      "source": [
        "# TASK 3:  Compare K-Means Clustering and Hierarchical Agglomerative Clustering"
      ]
    },
    {
      "cell_type": "markdown",
      "metadata": {
        "id": "2TM92KNcMdCr"
      },
      "source": [
        "--> Task 3-1 Visualize Clusters :- In this task, use whole dataset for training k-means cluster and hierarchical agglomerative clustering. Use the best model for agglomerative clustering. \n",
        "\n",
        "--> Visualize the predicted labels from k-means clustering and agglomerative clustering versus actual labels. Basically, you need to plot three scatter plots as subplots. Use number cluster = 2 for below example"
      ]
    },
    {
      "cell_type": "code",
      "execution_count": null,
      "metadata": {
        "id": "2nX7abI8MdCs"
      },
      "outputs": [],
      "source": [
        "#####Task 3-1: Visualize the predicted training labels vs actual training labels - 10 Points\n",
        "\n",
        "### Kmeans Clustering\n",
        "# Model and fit the data to the Kmeans (use fit_predict : Performs clustering on X and returns cluster labels.)\n",
        "\n",
        "\n",
        "### Agglomerative Clustering\n",
        "# Calculate pairwise distance matrix for X\n",
        "\n",
        "# Model and fit the data to the Agglomerative (use fit_predict : Performs clustering on X and returns cluster labels.)\n",
        "\n",
        "\n",
        "### Visualize Clusters\n",
        "#  Model and fit the data to the PCA model\n",
        "X_pca = None\n",
        "\n",
        "# Visualize the predicted Kmeans labels versus  the predicted Agglomerative labels versus Actual labels. \n",
        "\n",
        "\n",
        "\n",
        "\n",
        "######end Task 3-1"
      ]
    },
    {
      "cell_type": "markdown",
      "metadata": {
        "id": "5WClTgrqMdCs"
      },
      "source": [
        "## Task 3-b: Compare K-Means Clustering &  Hierarchical Agglomerative Clustering"
      ]
    },
    {
      "cell_type": "markdown",
      "metadata": {
        "id": "mXYH2N9XMdCs"
      },
      "source": [
        "Print out 2D confusion matrices for kmeans and agglomerative clustering. Also, compare precision, recall, and F1-score for both model in at least 3-4 lines. Type your reasoning."
      ]
    },
    {
      "cell_type": "code",
      "execution_count": null,
      "metadata": {
        "id": "Q_2rmZhqMdCt"
      },
      "outputs": [],
      "source": [
        "######Task 3-b  - 10 Points\n",
        " \n",
        "\n",
        "\n",
        "\n",
        "\n",
        "\n",
        "\n",
        "######end Task 3-b"
      ]
    }
  ],
  "metadata": {
    "celltoolbar": "Raw Cell Format",
    "colab": {
      "provenance": []
    },
    "kernelspec": {
      "display_name": "Python 3.10.8 64-bit (microsoft store)",
      "language": "python",
      "name": "python3"
    },
    "language_info": {
      "codemirror_mode": {
        "name": "ipython",
        "version": 3
      },
      "file_extension": ".py",
      "mimetype": "text/x-python",
      "name": "python",
      "nbconvert_exporter": "python",
      "pygments_lexer": "ipython3",
      "version": "3.10.8"
    },
    "vscode": {
      "interpreter": {
        "hash": "40464e6eb96d9ec9e5b61a65d292bbe4d0ac6dbdde028529dcebb67a1a940154"
      }
    }
  },
  "nbformat": 4,
  "nbformat_minor": 0
}
