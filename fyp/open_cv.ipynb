{
 "cells": [
  {
   "cell_type": "code",
   "execution_count": 2,
   "metadata": {},
   "outputs": [],
   "source": [
    "import cv2\n",
    "import numpy as np\n",
    "\n",
    "import utills"
   ]
  },
  {
   "cell_type": "code",
   "execution_count": 3,
   "metadata": {},
   "outputs": [
    {
     "data": {
      "text/plain": [
       "'1.23.3'"
      ]
     },
     "execution_count": 3,
     "metadata": {},
     "output_type": "execute_result"
    }
   ],
   "source": [
    "cv2.__version__\n",
    "np.__version__\n"
   ]
  },
  {
   "cell_type": "code",
   "execution_count": 1,
   "metadata": {},
   "outputs": [
    {
     "ename": "NameError",
     "evalue": "name 'cv2' is not defined",
     "output_type": "error",
     "traceback": [
      "\u001b[1;31m---------------------------------------------------------------------------\u001b[0m",
      "\u001b[1;31mNameError\u001b[0m                                 Traceback (most recent call last)",
      "\u001b[1;32mc:\\Users\\FUJUTSU\\Desktop\\flask\\env\\AI part\\fyp\\open_cv.ipynb Cell 3\u001b[0m in \u001b[0;36m<module>\u001b[1;34m\u001b[0m\n\u001b[0;32m      <a href='vscode-notebook-cell:/c%3A/Users/FUJUTSU/Desktop/flask/env/AI%20part/fyp/open_cv.ipynb#W2sZmlsZQ%3D%3D?line=4'>5</a>\u001b[0m choices\u001b[39m=\u001b[39m\u001b[39m5\u001b[39m\n\u001b[0;32m      <a href='vscode-notebook-cell:/c%3A/Users/FUJUTSU/Desktop/flask/env/AI%20part/fyp/open_cv.ipynb#W2sZmlsZQ%3D%3D?line=5'>6</a>\u001b[0m ans\u001b[39m=\u001b[39m [\u001b[39m1\u001b[39m,\u001b[39m3\u001b[39m,\u001b[39m4\u001b[39m,\u001b[39m2\u001b[39m,\u001b[39m2\u001b[39m]\n\u001b[1;32m----> <a href='vscode-notebook-cell:/c%3A/Users/FUJUTSU/Desktop/flask/env/AI%20part/fyp/open_cv.ipynb#W2sZmlsZQ%3D%3D?line=7'>8</a>\u001b[0m img \u001b[39m=\u001b[39m cv2\u001b[39m.\u001b[39mimread(\u001b[39m\"\u001b[39m\u001b[39m2.JPG\u001b[39m\u001b[39m\"\u001b[39m)\n\u001b[0;32m      <a href='vscode-notebook-cell:/c%3A/Users/FUJUTSU/Desktop/flask/env/AI%20part/fyp/open_cv.ipynb#W2sZmlsZQ%3D%3D?line=8'>9</a>\u001b[0m img \u001b[39m=\u001b[39m cv2\u001b[39m.\u001b[39mresize(img, (\u001b[39m700\u001b[39m, \u001b[39m600\u001b[39m))\n\u001b[0;32m     <a href='vscode-notebook-cell:/c%3A/Users/FUJUTSU/Desktop/flask/env/AI%20part/fyp/open_cv.ipynb#W2sZmlsZQ%3D%3D?line=9'>10</a>\u001b[0m img \u001b[39m=\u001b[39m cv2\u001b[39m.\u001b[39mresize(img, (widthImg, heightImg)) \u001b[39m# RESIZE IMAGE\u001b[39;00m\n",
      "\u001b[1;31mNameError\u001b[0m: name 'cv2' is not defined"
     ]
    }
   ],
   "source": [
    "\n",
    "resutlscore=0\n",
    "heightImg = 700\n",
    "widthImg  = 700\n",
    "questions=5\n",
    "choices=5\n",
    "ans= [1,3,4,2,2]\n",
    "\n",
    "img = cv2.imread(\"2.JPG\")\n",
    "img = cv2.resize(img, (700, 600))\n",
    "img = cv2.resize(img, (widthImg, heightImg)) # RESIZE IMAGE\n",
    "imgFinal = img.copy()\n",
    "imgBlank = np.zeros((heightImg,widthImg, 3), np.uint8) # CREATE A BLANK IMAGE FOR TESTING DEBUGGING IF REQUIRED\n",
    "imgGray = cv2.cvtColor(img, cv2.COLOR_BGR2GRAY) # CONVERT IMAGE TO GRAY SCALE\n",
    "imgBlur = cv2.GaussianBlur(imgGray, (5, 5), 1) # ADD GAUSSIAN BLUR\n",
    "imgCanny = cv2.Canny(imgBlur,10,70) # APPLY CANNY \n",
    "\n",
    "  ## FIND ALL COUNTOURS\n",
    "imgContours = img.copy() # COPY IMAGE FOR DISPLAY PURPOSES \n",
    "imgBigContour = img.copy() # COPY IMAGE FOR DISPLAY PURPOSES\n",
    "contours, hierarchy = cv2.findContours(imgCanny, cv2.RETR_EXTERNAL, cv2.CHAIN_APPROX_NONE) # FIND ALL CONTOURS\n",
    "cv2.drawContours(imgContours, contours, -1, (0, 255, 0), 10) # DRAW ALL DETECTED CONTOURS\n",
    "rectCon = utills.rectContour(contours) # FILTER FOR RECTANGLE CONTOURS\n",
    "biggestPoints= utills.getCornerPoints(rectCon[0]) # GET CORNER POINTS OF THE BIGGEST RECTANGLE\n",
    "gradePoints = utills.getCornerPoints(rectCon[1]) # GET CORNER POINTS OF THE SECOND BIGGEST RECTANGLE\n",
    "if biggestPoints.size != 0 and gradePoints.size != 0:\n",
    "        # BIGGEST RECTANGLE WARPING\n",
    "    biggestPoints=utills.reorder(biggestPoints) # REORDER FOR WARPING\n",
    "    cv2.drawContours(imgBigContour, biggestPoints, -1, (0, 255, 0), 20) # DRAW THE BIGGEST CONTOUR\n",
    "    pts1 = np.float32(biggestPoints) # PREPARE POINTS FOR WARP\n",
    "    pts2 = np.float32([[0, 0],[widthImg, 0], [0, heightImg],[widthImg, heightImg]]) # PREPARE POINTS FOR WARP\n",
    "    matrix = cv2.getPerspectiveTransform(pts1, pts2) # GET TRANSFORMATION MATRIX\n",
    "    imgWarpColored = cv2.warpPerspective(img, matrix, (widthImg, heightImg)) # APPLY WARP PERSPECTIVE\n",
    "        # SECOND BIGGEST RECTANGLE WARPING\n",
    "    cv2.drawContours(imgBigContour, gradePoints, -1, (255, 0, 0), 20) # DRAW THE BIGGEST CONTOUR\n",
    "    gradePoints = utills.reorder(gradePoints) # REORDER FOR WARPING\n",
    "    ptsG1 = np.float32(gradePoints)  # PREPARE POINTS FOR WARP\n",
    "    ptsG2 = np.float32([[0, 0], [325, 0], [0, 150], [325, 150]])  # PREPARE POINTS FOR WARP\n",
    "    matrixG = cv2.getPerspectiveTransform(ptsG1, ptsG2)# GET TRANSFORMATION MATRIX\n",
    "    imgGradeDisplay = cv2.warpPerspective(img, matrixG, (325, 150)) # APPLY WARP PERSPECTIVE\n",
    "            # APPLY THRESHOLD\n",
    "    imgWarpGray = cv2.cvtColor(imgWarpColored,cv2.COLOR_BGR2GRAY) # CONVERT TO GRAYSCALE\n",
    "    imgThresh = cv2.threshold(imgWarpGray, 170, 255,cv2.THRESH_BINARY_INV )[1] # APPLY THRESHOLD AND INVERSE\n",
    "    boxes = utills.splitBoxes(imgThresh)\n",
    "    # GET INDIVIDUAL BOXES\n",
    "    #cv2.imshow('xw',boxes[3])\n",
    "    countR=0\n",
    "    countC=0\n",
    "    myPixelVal = np.zeros((questions,choices)) # TO STORE THE NON ZERO VALUES OF EACH BOX\n",
    "    for image in boxes:\n",
    "             #cv2.imshow(str(countR)+str(countC),image)\n",
    "        totalPixels = cv2.countNonZero(image)\n",
    "        myPixelVal[countR][countC]= totalPixels\n",
    "        countC += 1\n",
    "        if (countC==choices):\n",
    "            countC=0\n",
    "            countR +=1\n",
    "\n",
    "            # FIND THE USER ANSWERS AND PUT THEM IN A LIST\n",
    "    myIndex=[]\n",
    "    for x in range (0,questions):\n",
    "        arr = myPixelVal[x]\n",
    "        myIndexVal = np.where(arr == np.amax(arr))\n",
    "        myIndex.append(myIndexVal[0][0])\n",
    "            #print(\"USER ANSWERS\",myIndex)\n",
    "\n",
    "            # COMPARE THE VALUES TO FIND THE CORRECT ANSWERS\n",
    "    grading=[]\n",
    "    for x in range(0,questions):\n",
    "        if ans[x] == myIndex[x]:\n",
    "            grading.append(1)\n",
    "        else:\n",
    "            grading.append(0)\n",
    "            #print(\"GRADING\",grading)\n",
    "    score = (sum(grading)/questions)*100 # FINAL GRADE\n",
    "            #print(\"SCORE\",score)\n",
    "\n",
    "            # DISPLAYING ANSWERS\n",
    "    utills.showAnswers(imgWarpColored,myIndex,grading,ans) # DRAW DETECTED ANSWERS\n",
    "    \n",
    "    utills.drawGrid(imgWarpColored) # DRAW GRID\n",
    "    imgRawDrawings = np.zeros_like(imgWarpColored) # NEW BLANK IMAGE WITH WARP IMAGE SIZE\n",
    "    utills.showAnswers(imgRawDrawings, myIndex, grading, ans) # DRAW ON NEW IMAGE\n",
    "    invMatrix = cv2.getPerspectiveTransform(pts2, pts1) # INVERSE TRANSFORMATION MATRIX\n",
    "    imgInvWarp = cv2.warpPerspective(imgRawDrawings, invMatrix, (widthImg, heightImg)) # INV IMAGE WARP\n",
    "\n",
    "            # DISPLAY GRADE\n",
    "    imgRawGrade = np.zeros_like(imgGradeDisplay,np.uint8) # NEW BLANK IMAGE WITH GRADE AREA SIZE\n",
    "    resutlscore=score\n",
    "    cv2.putText(imgRawGrade,str(int(score))+\"%\",(70,100)\n",
    "                ,cv2.FONT_HERSHEY_COMPLEX,3,(0,255,255),3) # ADD THE GRADE TO NEW IMAGE\n",
    "    invMatrixG = cv2.getPerspectiveTransform(ptsG2, ptsG1) # INVERSE TRANSFORMATION MATRIX\n",
    "    imgInvGradeDisplay = cv2.warpPerspective(imgRawGrade, invMatrixG, (widthImg, heightImg)) # INV IMAGE WARP\n",
    "\n",
    "            # SHOW ANSWERS AND GRADE ON FINAL IMAGE\n",
    "    imgFinal = cv2.addWeighted(imgFinal, 1, imgInvWarp, 1,0)\n",
    "    imgFinal = cv2.addWeighted(imgFinal, 1, imgInvGradeDisplay, 1,0)\n",
    "\n",
    "            # IMAGE ARRAY FOR DISPLAY\n",
    "    imageArray = ([img,imgGray,imgCanny,imgContours],\n",
    "                  [imgBigContour,imgThresh,imgWarpColored,imgFinal])\n",
    "    cv2.imshow(\"Final Result\", imgFinal)\n",
    "\n",
    "imageArray = ([img,imgGray,imgCanny,imgContours],\n",
    "              [imgBlank, imgBlank, imgBlank, imgFinal])\n",
    "\n",
    "    # LABELS FOR DISPLAY\n",
    "lables = [[\"Original\",\"Gray\",\"Edges\",\"Contours\"],\n",
    "          [\"Biggest Contour\",\"Threshold\",\"Warpped\",\"Final\"]]\n",
    "\n",
    "stackedImage = utills.stackImages(imageArray,0.5,lables)\n",
    "#cv2.imshow(\"Result\",stackedImage)\n",
    "print(\"Result score is: \",resutlscore)\n",
    "    # SAVE IMAGE WHEN 's' key is pressed\n",
    "# if cv2.waitKey(1) & 0xFF == ord('s'):\n",
    "#     cv2.imwrite(\"Scanned/myImage\"+str(count)+\".jpg\",imgFinal)\n",
    "#     cv2.rectangle(stackedImage, ((int(stackedImage.shape[1] / 2) - 230), int(stackedImage.shape[0] / 2) + 50),\n",
    "#                     (1100, 350), (0, 255, 0), cv2.FILLED)\n",
    "#     cv2.putText(stackedImage, \"Scan Saved\", (int(stackedImage.shape[1] / 2) - 200, int(stackedImage.shape[0] / 2)),\n",
    "#                 cv2.FONT_HERSHEY_DUPLEX, 3, (0, 0, 255), 5, cv2.LINE_AA)\n",
    "#     cv2.imshow('Result', stackedImage)\n",
    "#     cv2.waitKey(300)\n",
    "#     count += 1\n",
    "\n",
    "# cv2.waitKey(0)"
   ]
  },
  {
   "cell_type": "code",
   "execution_count": 5,
   "metadata": {},
   "outputs": [
    {
     "name": "stdout",
     "output_type": "stream",
     "text": [
      "Requirement already satisfied: opencv-python in c:\\users\\fujutsu\\appdata\\local\\packages\\pythonsoftwarefoundation.python.3.10_qbz5n2kfra8p0\\localcache\\local-packages\\python310\\site-packages (4.6.0.66)\n",
      "Requirement already satisfied: numpy>=1.19.3 in c:\\users\\fujutsu\\appdata\\local\\packages\\pythonsoftwarefoundation.python.3.10_qbz5n2kfra8p0\\localcache\\local-packages\\python310\\site-packages (from opencv-python) (1.23.3)\n",
      "Note: you may need to restart the kernel to use updated packages.\n"
     ]
    },
    {
     "name": "stderr",
     "output_type": "stream",
     "text": [
      "WARNING: Retrying (Retry(total=4, connect=None, read=None, redirect=None, status=None)) after connection broken by 'NewConnectionError('<pip._vendor.urllib3.connection.HTTPSConnection object at 0x00000256032457B0>: Failed to establish a new connection: [Errno 11001] getaddrinfo failed')': /simple/opencv-python/\n",
      "WARNING: Retrying (Retry(total=3, connect=None, read=None, redirect=None, status=None)) after connection broken by 'NewConnectionError('<pip._vendor.urllib3.connection.HTTPSConnection object at 0x0000025603245AE0>: Failed to establish a new connection: [Errno 11001] getaddrinfo failed')': /simple/opencv-python/\n",
      "WARNING: Retrying (Retry(total=2, connect=None, read=None, redirect=None, status=None)) after connection broken by 'NewConnectionError('<pip._vendor.urllib3.connection.HTTPSConnection object at 0x0000025603245C90>: Failed to establish a new connection: [Errno 11001] getaddrinfo failed')': /simple/opencv-python/\n",
      "WARNING: Retrying (Retry(total=1, connect=None, read=None, redirect=None, status=None)) after connection broken by 'NewConnectionError('<pip._vendor.urllib3.connection.HTTPSConnection object at 0x0000025603245E40>: Failed to establish a new connection: [Errno 11001] getaddrinfo failed')': /simple/opencv-python/\n",
      "WARNING: Retrying (Retry(total=0, connect=None, read=None, redirect=None, status=None)) after connection broken by 'NewConnectionError('<pip._vendor.urllib3.connection.HTTPSConnection object at 0x0000025603245FF0>: Failed to establish a new connection: [Errno 11001] getaddrinfo failed')': /simple/opencv-python/\n",
      "WARNING: There was an error checking the latest version of pip.\n"
     ]
    },
    {
     "ename": "",
     "evalue": "",
     "output_type": "error",
     "traceback": [
      "\u001b[1;31mThe Kernel crashed while executing code in the the current cell or a previous cell. Please review the code in the cell(s) to identify a possible cause of the failure. Click <a href='https://aka.ms/vscodeJupyterKernelCrash'>here</a> for more info. View Jupyter <a href='command:jupyter.viewOutput'>log</a> for further details."
     ]
    }
   ],
   "source": [
    "pip install opencv-python --upgrade"
   ]
  },
  {
   "cell_type": "code",
   "execution_count": null,
   "metadata": {},
   "outputs": [],
   "source": []
  }
 ],
 "metadata": {
  "kernelspec": {
   "display_name": "Python 3",
   "language": "python",
   "name": "python3"
  },
  "language_info": {
   "codemirror_mode": {
    "name": "ipython",
    "version": 3
   },
   "file_extension": ".py",
   "mimetype": "text/x-python",
   "name": "python",
   "nbconvert_exporter": "python",
   "pygments_lexer": "ipython3",
   "version": "3.10.9 (tags/v3.10.9:1dd9be6, Dec  6 2022, 20:01:21) [MSC v.1934 64 bit (AMD64)]"
  },
  "vscode": {
   "interpreter": {
    "hash": "40464e6eb96d9ec9e5b61a65d292bbe4d0ac6dbdde028529dcebb67a1a940154"
   }
  }
 },
 "nbformat": 4,
 "nbformat_minor": 2
}
